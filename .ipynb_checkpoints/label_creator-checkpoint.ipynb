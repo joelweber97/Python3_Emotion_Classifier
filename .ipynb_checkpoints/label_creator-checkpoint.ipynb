{
 "cells": [
  {
   "cell_type": "code",
   "execution_count": 16,
   "id": "a40195b2",
   "metadata": {},
   "outputs": [],
   "source": [
    "import glob\n",
    "import os\n",
    "import pandas as pd\n",
    "import numpy as np\n",
    "import cv2\n",
    "import tensorflow as tf\n",
    "from tensorflow.keras import optimizers\n",
    "from tensorflow.keras.models import Sequential\n",
    "from tensorflow.keras.callbacks import Callback, EarlyStopping, ReduceLROnPlateau\n",
    "from tensorflow.keras.layers import Dense, MaxPooling2D, Conv2D, Flatten\n",
    "from tensorflow.keras.layers import Dropout, BatchNormalization, LeakyReLU, Activation\n",
    "from sklearn import metrics\n",
    "from sklearn.model_selection import train_test_split"
   ]
  },
  {
   "cell_type": "code",
   "execution_count": 83,
   "id": "df4485db",
   "metadata": {},
   "outputs": [],
   "source": [
    "def label_creator():\n",
    "    files = glob.glob('emotion_images/train/*/*')\n",
    "    len(files)\n",
    "    files[0:10]\n",
    "    \n",
    "    emotions = []\n",
    "    filename = []\n",
    "    for i in files:\n",
    "        emotions.append(i.split('/')[2])\n",
    "        filename.append(i.split('/')[3])\n",
    "\n",
    "    outfile = list(zip(files, filename, emotions))\n",
    "\n",
    "    df = pd.DataFrame(outfile, columns = ['path', 'filename', 'emotion'])\n",
    "    df['emotion_value'] = df['emotion']\n",
    "    dummies = pd.get_dummies(df, columns = ['emotion'])\n",
    "    return dummies\n",
    "    #return df\n",
    "\n",
    "\n"
   ]
  },
  {
   "cell_type": "code",
   "execution_count": 84,
   "id": "883ebf12",
   "metadata": {},
   "outputs": [],
   "source": [
    "df = label_creator()\n",
    "#dummies"
   ]
  },
  {
   "cell_type": "code",
   "execution_count": 85,
   "id": "59ef1419",
   "metadata": {},
   "outputs": [
    {
     "data": {
      "text/html": [
       "<div>\n",
       "<style scoped>\n",
       "    .dataframe tbody tr th:only-of-type {\n",
       "        vertical-align: middle;\n",
       "    }\n",
       "\n",
       "    .dataframe tbody tr th {\n",
       "        vertical-align: top;\n",
       "    }\n",
       "\n",
       "    .dataframe thead th {\n",
       "        text-align: right;\n",
       "    }\n",
       "</style>\n",
       "<table border=\"1\" class=\"dataframe\">\n",
       "  <thead>\n",
       "    <tr style=\"text-align: right;\">\n",
       "      <th></th>\n",
       "      <th>path</th>\n",
       "      <th>filename</th>\n",
       "      <th>emotion_value</th>\n",
       "      <th>emotion_angry</th>\n",
       "      <th>emotion_disgust</th>\n",
       "      <th>emotion_fear</th>\n",
       "      <th>emotion_happy</th>\n",
       "      <th>emotion_neutral</th>\n",
       "      <th>emotion_sad</th>\n",
       "      <th>emotion_surprise</th>\n",
       "    </tr>\n",
       "  </thead>\n",
       "  <tbody>\n",
       "    <tr>\n",
       "      <th>0</th>\n",
       "      <td>emotion_images/train/happy/Training_50449107.jpg</td>\n",
       "      <td>Training_50449107.jpg</td>\n",
       "      <td>happy</td>\n",
       "      <td>0</td>\n",
       "      <td>0</td>\n",
       "      <td>0</td>\n",
       "      <td>1</td>\n",
       "      <td>0</td>\n",
       "      <td>0</td>\n",
       "      <td>0</td>\n",
       "    </tr>\n",
       "    <tr>\n",
       "      <th>1</th>\n",
       "      <td>emotion_images/train/happy/Training_70433018.jpg</td>\n",
       "      <td>Training_70433018.jpg</td>\n",
       "      <td>happy</td>\n",
       "      <td>0</td>\n",
       "      <td>0</td>\n",
       "      <td>0</td>\n",
       "      <td>1</td>\n",
       "      <td>0</td>\n",
       "      <td>0</td>\n",
       "      <td>0</td>\n",
       "    </tr>\n",
       "    <tr>\n",
       "      <th>2</th>\n",
       "      <td>emotion_images/train/happy/Training_85610005.jpg</td>\n",
       "      <td>Training_85610005.jpg</td>\n",
       "      <td>happy</td>\n",
       "      <td>0</td>\n",
       "      <td>0</td>\n",
       "      <td>0</td>\n",
       "      <td>1</td>\n",
       "      <td>0</td>\n",
       "      <td>0</td>\n",
       "      <td>0</td>\n",
       "    </tr>\n",
       "    <tr>\n",
       "      <th>3</th>\n",
       "      <td>emotion_images/train/happy/Training_4460748.jpg</td>\n",
       "      <td>Training_4460748.jpg</td>\n",
       "      <td>happy</td>\n",
       "      <td>0</td>\n",
       "      <td>0</td>\n",
       "      <td>0</td>\n",
       "      <td>1</td>\n",
       "      <td>0</td>\n",
       "      <td>0</td>\n",
       "      <td>0</td>\n",
       "    </tr>\n",
       "    <tr>\n",
       "      <th>4</th>\n",
       "      <td>emotion_images/train/happy/Training_6312930.jpg</td>\n",
       "      <td>Training_6312930.jpg</td>\n",
       "      <td>happy</td>\n",
       "      <td>0</td>\n",
       "      <td>0</td>\n",
       "      <td>0</td>\n",
       "      <td>1</td>\n",
       "      <td>0</td>\n",
       "      <td>0</td>\n",
       "      <td>0</td>\n",
       "    </tr>\n",
       "    <tr>\n",
       "      <th>...</th>\n",
       "      <td>...</td>\n",
       "      <td>...</td>\n",
       "      <td>...</td>\n",
       "      <td>...</td>\n",
       "      <td>...</td>\n",
       "      <td>...</td>\n",
       "      <td>...</td>\n",
       "      <td>...</td>\n",
       "      <td>...</td>\n",
       "      <td>...</td>\n",
       "    </tr>\n",
       "    <tr>\n",
       "      <th>28704</th>\n",
       "      <td>emotion_images/train/disgust/Training_94788538...</td>\n",
       "      <td>Training_94788538.jpg</td>\n",
       "      <td>disgust</td>\n",
       "      <td>0</td>\n",
       "      <td>1</td>\n",
       "      <td>0</td>\n",
       "      <td>0</td>\n",
       "      <td>0</td>\n",
       "      <td>0</td>\n",
       "      <td>0</td>\n",
       "    </tr>\n",
       "    <tr>\n",
       "      <th>28705</th>\n",
       "      <td>emotion_images/train/disgust/Training_81049148...</td>\n",
       "      <td>Training_81049148.jpg</td>\n",
       "      <td>disgust</td>\n",
       "      <td>0</td>\n",
       "      <td>1</td>\n",
       "      <td>0</td>\n",
       "      <td>0</td>\n",
       "      <td>0</td>\n",
       "      <td>0</td>\n",
       "      <td>0</td>\n",
       "    </tr>\n",
       "    <tr>\n",
       "      <th>28706</th>\n",
       "      <td>emotion_images/train/disgust/Training_28365203...</td>\n",
       "      <td>Training_28365203.jpg</td>\n",
       "      <td>disgust</td>\n",
       "      <td>0</td>\n",
       "      <td>1</td>\n",
       "      <td>0</td>\n",
       "      <td>0</td>\n",
       "      <td>0</td>\n",
       "      <td>0</td>\n",
       "      <td>0</td>\n",
       "    </tr>\n",
       "    <tr>\n",
       "      <th>28707</th>\n",
       "      <td>emotion_images/train/disgust/Training_39197750...</td>\n",
       "      <td>Training_39197750.jpg</td>\n",
       "      <td>disgust</td>\n",
       "      <td>0</td>\n",
       "      <td>1</td>\n",
       "      <td>0</td>\n",
       "      <td>0</td>\n",
       "      <td>0</td>\n",
       "      <td>0</td>\n",
       "      <td>0</td>\n",
       "    </tr>\n",
       "    <tr>\n",
       "      <th>28708</th>\n",
       "      <td>emotion_images/train/disgust/Training_12525818...</td>\n",
       "      <td>Training_12525818.jpg</td>\n",
       "      <td>disgust</td>\n",
       "      <td>0</td>\n",
       "      <td>1</td>\n",
       "      <td>0</td>\n",
       "      <td>0</td>\n",
       "      <td>0</td>\n",
       "      <td>0</td>\n",
       "      <td>0</td>\n",
       "    </tr>\n",
       "  </tbody>\n",
       "</table>\n",
       "<p>28709 rows × 10 columns</p>\n",
       "</div>"
      ],
      "text/plain": [
       "                                                    path  \\\n",
       "0       emotion_images/train/happy/Training_50449107.jpg   \n",
       "1       emotion_images/train/happy/Training_70433018.jpg   \n",
       "2       emotion_images/train/happy/Training_85610005.jpg   \n",
       "3        emotion_images/train/happy/Training_4460748.jpg   \n",
       "4        emotion_images/train/happy/Training_6312930.jpg   \n",
       "...                                                  ...   \n",
       "28704  emotion_images/train/disgust/Training_94788538...   \n",
       "28705  emotion_images/train/disgust/Training_81049148...   \n",
       "28706  emotion_images/train/disgust/Training_28365203...   \n",
       "28707  emotion_images/train/disgust/Training_39197750...   \n",
       "28708  emotion_images/train/disgust/Training_12525818...   \n",
       "\n",
       "                    filename emotion_value  emotion_angry  emotion_disgust  \\\n",
       "0      Training_50449107.jpg         happy              0                0   \n",
       "1      Training_70433018.jpg         happy              0                0   \n",
       "2      Training_85610005.jpg         happy              0                0   \n",
       "3       Training_4460748.jpg         happy              0                0   \n",
       "4       Training_6312930.jpg         happy              0                0   \n",
       "...                      ...           ...            ...              ...   \n",
       "28704  Training_94788538.jpg       disgust              0                1   \n",
       "28705  Training_81049148.jpg       disgust              0                1   \n",
       "28706  Training_28365203.jpg       disgust              0                1   \n",
       "28707  Training_39197750.jpg       disgust              0                1   \n",
       "28708  Training_12525818.jpg       disgust              0                1   \n",
       "\n",
       "       emotion_fear  emotion_happy  emotion_neutral  emotion_sad  \\\n",
       "0                 0              1                0            0   \n",
       "1                 0              1                0            0   \n",
       "2                 0              1                0            0   \n",
       "3                 0              1                0            0   \n",
       "4                 0              1                0            0   \n",
       "...             ...            ...              ...          ...   \n",
       "28704             0              0                0            0   \n",
       "28705             0              0                0            0   \n",
       "28706             0              0                0            0   \n",
       "28707             0              0                0            0   \n",
       "28708             0              0                0            0   \n",
       "\n",
       "       emotion_surprise  \n",
       "0                     0  \n",
       "1                     0  \n",
       "2                     0  \n",
       "3                     0  \n",
       "4                     0  \n",
       "...                 ...  \n",
       "28704                 0  \n",
       "28705                 0  \n",
       "28706                 0  \n",
       "28707                 0  \n",
       "28708                 0  \n",
       "\n",
       "[28709 rows x 10 columns]"
      ]
     },
     "execution_count": 85,
     "metadata": {},
     "output_type": "execute_result"
    }
   ],
   "source": [
    "df"
   ]
  },
  {
   "cell_type": "code",
   "execution_count": 86,
   "id": "edd56ad5",
   "metadata": {},
   "outputs": [
    {
     "data": {
      "text/html": [
       "<div>\n",
       "<style scoped>\n",
       "    .dataframe tbody tr th:only-of-type {\n",
       "        vertical-align: middle;\n",
       "    }\n",
       "\n",
       "    .dataframe tbody tr th {\n",
       "        vertical-align: top;\n",
       "    }\n",
       "\n",
       "    .dataframe thead th {\n",
       "        text-align: right;\n",
       "    }\n",
       "</style>\n",
       "<table border=\"1\" class=\"dataframe\">\n",
       "  <thead>\n",
       "    <tr style=\"text-align: right;\">\n",
       "      <th></th>\n",
       "      <th>path</th>\n",
       "      <th>filename</th>\n",
       "      <th>emotion_value</th>\n",
       "      <th>emotion_angry</th>\n",
       "      <th>emotion_disgust</th>\n",
       "      <th>emotion_fear</th>\n",
       "      <th>emotion_happy</th>\n",
       "      <th>emotion_neutral</th>\n",
       "      <th>emotion_sad</th>\n",
       "      <th>emotion_surprise</th>\n",
       "    </tr>\n",
       "  </thead>\n",
       "  <tbody>\n",
       "    <tr>\n",
       "      <th>0</th>\n",
       "      <td>emotion_images/train/fear/Training_39079700.jpg</td>\n",
       "      <td>Training_39079700.jpg</td>\n",
       "      <td>fear</td>\n",
       "      <td>0</td>\n",
       "      <td>0</td>\n",
       "      <td>1</td>\n",
       "      <td>0</td>\n",
       "      <td>0</td>\n",
       "      <td>0</td>\n",
       "      <td>0</td>\n",
       "    </tr>\n",
       "    <tr>\n",
       "      <th>1</th>\n",
       "      <td>emotion_images/train/happy/Training_19387154.jpg</td>\n",
       "      <td>Training_19387154.jpg</td>\n",
       "      <td>happy</td>\n",
       "      <td>0</td>\n",
       "      <td>0</td>\n",
       "      <td>0</td>\n",
       "      <td>1</td>\n",
       "      <td>0</td>\n",
       "      <td>0</td>\n",
       "      <td>0</td>\n",
       "    </tr>\n",
       "    <tr>\n",
       "      <th>2</th>\n",
       "      <td>emotion_images/train/surprise/Training_6755509...</td>\n",
       "      <td>Training_67555091.jpg</td>\n",
       "      <td>surprise</td>\n",
       "      <td>0</td>\n",
       "      <td>0</td>\n",
       "      <td>0</td>\n",
       "      <td>0</td>\n",
       "      <td>0</td>\n",
       "      <td>0</td>\n",
       "      <td>1</td>\n",
       "    </tr>\n",
       "    <tr>\n",
       "      <th>3</th>\n",
       "      <td>emotion_images/train/happy/Training_18383577.jpg</td>\n",
       "      <td>Training_18383577.jpg</td>\n",
       "      <td>happy</td>\n",
       "      <td>0</td>\n",
       "      <td>0</td>\n",
       "      <td>0</td>\n",
       "      <td>1</td>\n",
       "      <td>0</td>\n",
       "      <td>0</td>\n",
       "      <td>0</td>\n",
       "    </tr>\n",
       "    <tr>\n",
       "      <th>4</th>\n",
       "      <td>emotion_images/train/sad/Training_98431808.jpg</td>\n",
       "      <td>Training_98431808.jpg</td>\n",
       "      <td>sad</td>\n",
       "      <td>0</td>\n",
       "      <td>0</td>\n",
       "      <td>0</td>\n",
       "      <td>0</td>\n",
       "      <td>0</td>\n",
       "      <td>1</td>\n",
       "      <td>0</td>\n",
       "    </tr>\n",
       "    <tr>\n",
       "      <th>...</th>\n",
       "      <td>...</td>\n",
       "      <td>...</td>\n",
       "      <td>...</td>\n",
       "      <td>...</td>\n",
       "      <td>...</td>\n",
       "      <td>...</td>\n",
       "      <td>...</td>\n",
       "      <td>...</td>\n",
       "      <td>...</td>\n",
       "      <td>...</td>\n",
       "    </tr>\n",
       "    <tr>\n",
       "      <th>28704</th>\n",
       "      <td>emotion_images/train/disgust/Training_50925427...</td>\n",
       "      <td>Training_50925427.jpg</td>\n",
       "      <td>disgust</td>\n",
       "      <td>0</td>\n",
       "      <td>1</td>\n",
       "      <td>0</td>\n",
       "      <td>0</td>\n",
       "      <td>0</td>\n",
       "      <td>0</td>\n",
       "      <td>0</td>\n",
       "    </tr>\n",
       "    <tr>\n",
       "      <th>28705</th>\n",
       "      <td>emotion_images/train/happy/Training_46964584.jpg</td>\n",
       "      <td>Training_46964584.jpg</td>\n",
       "      <td>happy</td>\n",
       "      <td>0</td>\n",
       "      <td>0</td>\n",
       "      <td>0</td>\n",
       "      <td>1</td>\n",
       "      <td>0</td>\n",
       "      <td>0</td>\n",
       "      <td>0</td>\n",
       "    </tr>\n",
       "    <tr>\n",
       "      <th>28706</th>\n",
       "      <td>emotion_images/train/happy/Training_21869727.jpg</td>\n",
       "      <td>Training_21869727.jpg</td>\n",
       "      <td>happy</td>\n",
       "      <td>0</td>\n",
       "      <td>0</td>\n",
       "      <td>0</td>\n",
       "      <td>1</td>\n",
       "      <td>0</td>\n",
       "      <td>0</td>\n",
       "      <td>0</td>\n",
       "    </tr>\n",
       "    <tr>\n",
       "      <th>28707</th>\n",
       "      <td>emotion_images/train/neutral/Training_86109829...</td>\n",
       "      <td>Training_86109829.jpg</td>\n",
       "      <td>neutral</td>\n",
       "      <td>0</td>\n",
       "      <td>0</td>\n",
       "      <td>0</td>\n",
       "      <td>0</td>\n",
       "      <td>1</td>\n",
       "      <td>0</td>\n",
       "      <td>0</td>\n",
       "    </tr>\n",
       "    <tr>\n",
       "      <th>28708</th>\n",
       "      <td>emotion_images/train/angry/Training_79674651.jpg</td>\n",
       "      <td>Training_79674651.jpg</td>\n",
       "      <td>angry</td>\n",
       "      <td>1</td>\n",
       "      <td>0</td>\n",
       "      <td>0</td>\n",
       "      <td>0</td>\n",
       "      <td>0</td>\n",
       "      <td>0</td>\n",
       "      <td>0</td>\n",
       "    </tr>\n",
       "  </tbody>\n",
       "</table>\n",
       "<p>28709 rows × 10 columns</p>\n",
       "</div>"
      ],
      "text/plain": [
       "                                                    path  \\\n",
       "0        emotion_images/train/fear/Training_39079700.jpg   \n",
       "1       emotion_images/train/happy/Training_19387154.jpg   \n",
       "2      emotion_images/train/surprise/Training_6755509...   \n",
       "3       emotion_images/train/happy/Training_18383577.jpg   \n",
       "4         emotion_images/train/sad/Training_98431808.jpg   \n",
       "...                                                  ...   \n",
       "28704  emotion_images/train/disgust/Training_50925427...   \n",
       "28705   emotion_images/train/happy/Training_46964584.jpg   \n",
       "28706   emotion_images/train/happy/Training_21869727.jpg   \n",
       "28707  emotion_images/train/neutral/Training_86109829...   \n",
       "28708   emotion_images/train/angry/Training_79674651.jpg   \n",
       "\n",
       "                    filename emotion_value  emotion_angry  emotion_disgust  \\\n",
       "0      Training_39079700.jpg          fear              0                0   \n",
       "1      Training_19387154.jpg         happy              0                0   \n",
       "2      Training_67555091.jpg      surprise              0                0   \n",
       "3      Training_18383577.jpg         happy              0                0   \n",
       "4      Training_98431808.jpg           sad              0                0   \n",
       "...                      ...           ...            ...              ...   \n",
       "28704  Training_50925427.jpg       disgust              0                1   \n",
       "28705  Training_46964584.jpg         happy              0                0   \n",
       "28706  Training_21869727.jpg         happy              0                0   \n",
       "28707  Training_86109829.jpg       neutral              0                0   \n",
       "28708  Training_79674651.jpg         angry              1                0   \n",
       "\n",
       "       emotion_fear  emotion_happy  emotion_neutral  emotion_sad  \\\n",
       "0                 1              0                0            0   \n",
       "1                 0              1                0            0   \n",
       "2                 0              0                0            0   \n",
       "3                 0              1                0            0   \n",
       "4                 0              0                0            1   \n",
       "...             ...            ...              ...          ...   \n",
       "28704             0              0                0            0   \n",
       "28705             0              1                0            0   \n",
       "28706             0              1                0            0   \n",
       "28707             0              0                1            0   \n",
       "28708             0              0                0            0   \n",
       "\n",
       "       emotion_surprise  \n",
       "0                     0  \n",
       "1                     0  \n",
       "2                     1  \n",
       "3                     0  \n",
       "4                     0  \n",
       "...                 ...  \n",
       "28704                 0  \n",
       "28705                 0  \n",
       "28706                 0  \n",
       "28707                 0  \n",
       "28708                 0  \n",
       "\n",
       "[28709 rows x 10 columns]"
      ]
     },
     "execution_count": 86,
     "metadata": {},
     "output_type": "execute_result"
    }
   ],
   "source": [
    "df = df.sample(frac = 1, axis = 0, ignore_index = True)\n",
    "df"
   ]
  },
  {
   "cell_type": "code",
   "execution_count": 128,
   "id": "0695f9c5",
   "metadata": {},
   "outputs": [],
   "source": [
    "imgs = []\n",
    "for i in df['path']:\n",
    "    img = cv2.imread(i)\n",
    "    img = cv2.cvtColor(img, cv2.COLOR_BGR2GRAY)\n",
    "    imgs.append(img)\n",
    "    \n",
    "    \n",
    "imgs = np.array(imgs)\n",
    "    \n",
    "    "
   ]
  },
  {
   "cell_type": "code",
   "execution_count": 129,
   "id": "ea5bf71b",
   "metadata": {},
   "outputs": [
    {
     "data": {
      "text/plain": [
       "(28709, 48, 48)"
      ]
     },
     "execution_count": 129,
     "metadata": {},
     "output_type": "execute_result"
    }
   ],
   "source": [
    "imgs.shape"
   ]
  },
  {
   "cell_type": "code",
   "execution_count": 89,
   "id": "cdc0856b",
   "metadata": {},
   "outputs": [],
   "source": [
    "imgs = imgs/255"
   ]
  },
  {
   "cell_type": "code",
   "execution_count": 90,
   "id": "27132980",
   "metadata": {},
   "outputs": [
    {
     "data": {
      "text/plain": [
       "(28709, 48, 48)"
      ]
     },
     "execution_count": 90,
     "metadata": {},
     "output_type": "execute_result"
    }
   ],
   "source": [
    "imgs.shape"
   ]
  },
  {
   "cell_type": "code",
   "execution_count": 91,
   "id": "8ea162ac",
   "metadata": {},
   "outputs": [
    {
     "data": {
      "text/plain": [
       "array([[0, 0, 1, ..., 0, 0, 0],\n",
       "       [0, 0, 0, ..., 0, 0, 0],\n",
       "       [0, 0, 0, ..., 0, 0, 1],\n",
       "       ...,\n",
       "       [0, 0, 0, ..., 0, 0, 0],\n",
       "       [0, 0, 0, ..., 1, 0, 0],\n",
       "       [1, 0, 0, ..., 0, 0, 0]], dtype=uint8)"
      ]
     },
     "execution_count": 91,
     "metadata": {},
     "output_type": "execute_result"
    }
   ],
   "source": [
    "y_train = np.array(df[df.columns[3:]])\n",
    "y_train"
   ]
  },
  {
   "cell_type": "code",
   "execution_count": 92,
   "id": "08c57a37",
   "metadata": {},
   "outputs": [
    {
     "data": {
      "text/plain": [
       "(28709, 7)"
      ]
     },
     "execution_count": 92,
     "metadata": {},
     "output_type": "execute_result"
    }
   ],
   "source": [
    "y_train.shape"
   ]
  },
  {
   "cell_type": "code",
   "execution_count": 93,
   "id": "92952f45",
   "metadata": {},
   "outputs": [],
   "source": [
    "X_train = imgs"
   ]
  },
  {
   "cell_type": "code",
   "execution_count": 94,
   "id": "6dc4a99e",
   "metadata": {},
   "outputs": [
    {
     "data": {
      "text/plain": [
       "(28709, 48, 48)"
      ]
     },
     "execution_count": 94,
     "metadata": {},
     "output_type": "execute_result"
    }
   ],
   "source": [
    "X_train.shape"
   ]
  },
  {
   "cell_type": "code",
   "execution_count": null,
   "id": "6b90433f",
   "metadata": {},
   "outputs": [],
   "source": []
  },
  {
   "cell_type": "code",
   "execution_count": 95,
   "id": "e50b5a8c",
   "metadata": {},
   "outputs": [
    {
     "data": {
      "text/plain": [
       "(28709, 48, 48, 1)"
      ]
     },
     "execution_count": 95,
     "metadata": {},
     "output_type": "execute_result"
    }
   ],
   "source": [
    "X_train = np.expand_dims(X_train, axis = 3)\n",
    "X_train.shape"
   ]
  },
  {
   "cell_type": "code",
   "execution_count": null,
   "id": "08a5df86",
   "metadata": {},
   "outputs": [],
   "source": []
  },
  {
   "cell_type": "code",
   "execution_count": 96,
   "id": "affda670",
   "metadata": {},
   "outputs": [],
   "source": [
    "#split into training and validation set\n",
    "X_train, X_val, y_train, y_val = train_test_split(X_train, y_train, test_size = .1)"
   ]
  },
  {
   "cell_type": "code",
   "execution_count": 97,
   "id": "d63709e6",
   "metadata": {},
   "outputs": [
    {
     "data": {
      "text/plain": [
       "((25838, 48, 48, 1), (25838, 7))"
      ]
     },
     "execution_count": 97,
     "metadata": {},
     "output_type": "execute_result"
    }
   ],
   "source": [
    "X_train.shape, y_train.shape"
   ]
  },
  {
   "cell_type": "code",
   "execution_count": 98,
   "id": "d1186ed6",
   "metadata": {},
   "outputs": [
    {
     "data": {
      "text/plain": [
       "((2871, 48, 48, 1), (2871, 7))"
      ]
     },
     "execution_count": 98,
     "metadata": {},
     "output_type": "execute_result"
    }
   ],
   "source": [
    "X_val.shape, y_val.shape"
   ]
  },
  {
   "cell_type": "code",
   "execution_count": 99,
   "id": "4bce71a4",
   "metadata": {},
   "outputs": [],
   "source": [
    "X_train = X_train/255"
   ]
  },
  {
   "cell_type": "code",
   "execution_count": 100,
   "id": "8f8bc55f",
   "metadata": {},
   "outputs": [],
   "source": [
    "single_image = X_train[0]\n",
    "img_width, img_height, img_depth = single_image.shape\n",
    "num_classes = y_train.shape[1]"
   ]
  },
  {
   "cell_type": "code",
   "execution_count": 101,
   "id": "ba1e4792",
   "metadata": {},
   "outputs": [
    {
     "data": {
      "text/plain": [
       "(48, 48, 1)"
      ]
     },
     "execution_count": 101,
     "metadata": {},
     "output_type": "execute_result"
    }
   ],
   "source": [
    "single_image.shape"
   ]
  },
  {
   "cell_type": "code",
   "execution_count": 102,
   "id": "94ae94c3",
   "metadata": {},
   "outputs": [],
   "source": [
    "model = Sequential(name = 'DCNN')\n",
    "model.add(Conv2D(filters = 64, \n",
    "                kernel_size = (3,3), \n",
    "                input_shape=(img_width, img_height, img_depth),\n",
    "                padding = 'same',\n",
    "                activation = 'relu',\n",
    "                name = 'Conv2D_1'))\n",
    "\n",
    "model.add(MaxPooling2D(pool_size=(2,2), name='maxpool2d_1'))\n",
    "\n",
    "model.add(Conv2D(filters = 64,\n",
    "                kernel_size = (5,5),\n",
    "                padding = 'same',\n",
    "                activation = 'relu',\n",
    "                name = 'Conv2D_2'))\n",
    "\n",
    "model.add(MaxPooling2D(pool_size=(2,2), name = 'maxpool2d_2'))\n",
    "\n",
    "model.add(Flatten(name = 'flatten'))\n",
    "model.add(Dense(128,\n",
    "               activation = 'elu',\n",
    "               kernel_initializer = 'he_normal',\n",
    "               name = 'dense_1'))\n",
    "\n",
    "model.add(Dense(num_classes,\n",
    "               activation = 'softmax',\n",
    "               name = 'output_layer'))\n"
   ]
  },
  {
   "cell_type": "code",
   "execution_count": 103,
   "id": "1abf3a37",
   "metadata": {},
   "outputs": [
    {
     "name": "stdout",
     "output_type": "stream",
     "text": [
      "Model: \"DCNN\"\n",
      "_________________________________________________________________\n",
      "Layer (type)                 Output Shape              Param #   \n",
      "=================================================================\n",
      "Conv2D_1 (Conv2D)            (None, 48, 48, 64)        640       \n",
      "_________________________________________________________________\n",
      "maxpool2d_1 (MaxPooling2D)   (None, 24, 24, 64)        0         \n",
      "_________________________________________________________________\n",
      "Conv2D_2 (Conv2D)            (None, 24, 24, 64)        102464    \n",
      "_________________________________________________________________\n",
      "maxpool2d_2 (MaxPooling2D)   (None, 12, 12, 64)        0         \n",
      "_________________________________________________________________\n",
      "flatten (Flatten)            (None, 9216)              0         \n",
      "_________________________________________________________________\n",
      "dense_1 (Dense)              (None, 128)               1179776   \n",
      "_________________________________________________________________\n",
      "output_layer (Dense)         (None, 7)                 903       \n",
      "=================================================================\n",
      "Total params: 1,283,783\n",
      "Trainable params: 1,283,783\n",
      "Non-trainable params: 0\n",
      "_________________________________________________________________\n"
     ]
    }
   ],
   "source": [
    "model.summary()"
   ]
  },
  {
   "cell_type": "code",
   "execution_count": 104,
   "id": "1af7daeb",
   "metadata": {},
   "outputs": [],
   "source": [
    "model.compile(loss = 'categorical_crossentropy',\n",
    "             optimizer = optimizers.Adam(lr = 0.01),\n",
    "             metrics = ['accuracy'])"
   ]
  },
  {
   "cell_type": "code",
   "execution_count": 105,
   "id": "348901cc",
   "metadata": {
    "scrolled": true
   },
   "outputs": [
    {
     "name": "stdout",
     "output_type": "stream",
     "text": [
      "Train on 25838 samples, validate on 2871 samples\n",
      "Epoch 1/2\n",
      "25838/25838 [==============================] - 102s 4ms/sample - loss: 1.8231 - accuracy: 0.2481 - val_loss: 96.5652 - val_accuracy: 0.0129\n",
      "Epoch 2/2\n",
      "25838/25838 [==============================] - 100s 4ms/sample - loss: 1.8135 - accuracy: 0.2526 - val_loss: 140.0175 - val_accuracy: 0.0136\n"
     ]
    },
    {
     "data": {
      "text/plain": [
       "<tensorflow.python.keras.callbacks.History at 0x7fc4cee1ec18>"
      ]
     },
     "execution_count": 105,
     "metadata": {},
     "output_type": "execute_result"
    }
   ],
   "source": [
    "model.fit(X_train, y_train, validation_data = (X_val, y_val), epochs = 2)"
   ]
  },
  {
   "cell_type": "code",
   "execution_count": 32,
   "id": "d393c451",
   "metadata": {},
   "outputs": [
    {
     "data": {
      "text/plain": [
       "{'loss': [1.8141199705798021,\n",
       "  1.8139480664658283,\n",
       "  1.8119745329535684,\n",
       "  1.8126251652049008,\n",
       "  1.812688794914105],\n",
       " 'accuracy': [0.25145134, 0.25094822, 0.25114173, 0.25145134, 0.25145134],\n",
       " 'val_loss': [1.8160665921739734,\n",
       "  1.8134268756030703,\n",
       "  1.8152536946861058,\n",
       "  1.8167211806387986,\n",
       "  1.8240277336184383],\n",
       " 'val_accuracy': [0.25008708, 0.25008708, 0.25008708, 0.25008708, 0.25008708]}"
      ]
     },
     "execution_count": 32,
     "metadata": {},
     "output_type": "execute_result"
    }
   ],
   "source": [
    "model.history.history"
   ]
  },
  {
   "cell_type": "markdown",
   "id": "c406227e",
   "metadata": {},
   "source": [
    "### make a prediction on a random image"
   ]
  },
  {
   "cell_type": "code",
   "execution_count": 165,
   "id": "390ed279",
   "metadata": {},
   "outputs": [],
   "source": [
    "single_image2 = cv2.imread('emotion_images/test/fear/PrivateTest_10153550.jpg',-1)\n",
    "single_image3 = cv2.imread('emotion_images/test/happy/PrivateTest_10077120.jpg',-1)\n",
    "single_image4 = cv2.imread('emotion_images/test/angry/PrivateTest_10131363.jpg',-1)"
   ]
  },
  {
   "cell_type": "code",
   "execution_count": 170,
   "id": "b7f352c9",
   "metadata": {},
   "outputs": [],
   "source": [
    "import matplotlib.pyplot as plt"
   ]
  },
  {
   "cell_type": "code",
   "execution_count": 166,
   "id": "8ae62ae6",
   "metadata": {
    "scrolled": true
   },
   "outputs": [
    {
     "data": {
      "text/plain": [
       "<matplotlib.image.AxesImage at 0x7fc45c709550>"
      ]
     },
     "execution_count": 166,
     "metadata": {},
     "output_type": "execute_result"
    },
    {
     "data": {
      "image/png": "[encoded data removed]",
      "text/plain": [
       "<Figure size 432x288 with 1 Axes>"
      ]
     },
     "metadata": {
      "needs_background": "light"
     },
     "output_type": "display_data"
    }
   ],
   "source": [
    "plt.imshow(single_image2)"
   ]
  },
  {
   "cell_type": "code",
   "execution_count": 167,
   "id": "af3ef4b6",
   "metadata": {},
   "outputs": [
    {
     "data": {
      "text/plain": [
       "<matplotlib.image.AxesImage at 0x7fc45bfb39e8>"
      ]
     },
     "execution_count": 167,
     "metadata": {},
     "output_type": "execute_result"
    },
    {
     "data": {
      "image/png": "[encoded data removed]",
      "text/plain": [
       "<Figure size 432x288 with 1 Axes>"
      ]
     },
     "metadata": {
      "needs_background": "light"
     },
     "output_type": "display_data"
    }
   ],
   "source": [
    "plt.imshow(single_image3)"
   ]
  },
  {
   "cell_type": "code",
   "execution_count": 168,
   "id": "66dba812",
   "metadata": {},
   "outputs": [
    {
     "data": {
      "text/plain": [
       "<matplotlib.image.AxesImage at 0x7fc45c6fb1d0>"
      ]
     },
     "execution_count": 168,
     "metadata": {},
     "output_type": "execute_result"
    },
    {
     "data": {
      "image/png": "[encoded data removed]",
      "text/plain": [
       "<Figure size 432x288 with 1 Axes>"
      ]
     },
     "metadata": {
      "needs_background": "light"
     },
     "output_type": "display_data"
    }
   ],
   "source": [
    "plt.imshow(single_image4)"
   ]
  },
  {
   "cell_type": "code",
   "execution_count": 158,
   "id": "70205366",
   "metadata": {},
   "outputs": [],
   "source": [
    "single_image2 = np.expand_dims(single_image2, axis = 0)\n",
    "single_image3 = np.expand_dims(single_image3, axis = 0)\n",
    "single_image4 = np.expand_dims(single_image4, axis = 0)\n",
    "\n",
    "\n",
    "single_image2 = np.expand_dims(single_image2, axis = -1)\n",
    "single_image3 = np.expand_dims(single_image3, axis = -1)\n",
    "single_image4 = np.expand_dims(single_image4, axis = -1)"
   ]
  },
  {
   "cell_type": "code",
   "execution_count": 159,
   "id": "f9890667",
   "metadata": {},
   "outputs": [
    {
     "data": {
      "text/plain": [
       "(1, 48, 48, 1)"
      ]
     },
     "execution_count": 159,
     "metadata": {},
     "output_type": "execute_result"
    }
   ],
   "source": [
    "single_image2.shape"
   ]
  },
  {
   "cell_type": "code",
   "execution_count": 160,
   "id": "b9fdf2e4",
   "metadata": {},
   "outputs": [],
   "source": [
    "single_image2 = single_image2.astype('float16')\n",
    "single_image3 = single_image3.astype('float16')\n",
    "single_image4 = single_image4.astype('float16')"
   ]
  },
  {
   "cell_type": "code",
   "execution_count": 169,
   "id": "d90f3b8c",
   "metadata": {},
   "outputs": [],
   "source": [
    "#predictions are angry, disgust, fear, happy, neutral, sad, surprise"
   ]
  },
  {
   "cell_type": "code",
   "execution_count": 161,
   "id": "04e577a7",
   "metadata": {},
   "outputs": [
    {
     "data": {
      "text/plain": [
       "array([[0., 1., 0., 0., 0., 0., 0.]], dtype=float32)"
      ]
     },
     "execution_count": 161,
     "metadata": {},
     "output_type": "execute_result"
    }
   ],
   "source": [
    "model.predict(single_image2)"
   ]
  },
  {
   "cell_type": "code",
   "execution_count": 162,
   "id": "dcea1fe3",
   "metadata": {},
   "outputs": [
    {
     "data": {
      "text/plain": [
       "array([[0., 1., 0., 0., 0., 0., 0.]], dtype=float32)"
      ]
     },
     "execution_count": 162,
     "metadata": {},
     "output_type": "execute_result"
    }
   ],
   "source": [
    "model.predict(single_image3)"
   ]
  },
  {
   "cell_type": "code",
   "execution_count": 163,
   "id": "f0bb22f2",
   "metadata": {},
   "outputs": [
    {
     "data": {
      "text/plain": [
       "array([[0., 1., 0., 0., 0., 0., 0.]], dtype=float32)"
      ]
     },
     "execution_count": 163,
     "metadata": {},
     "output_type": "execute_result"
    }
   ],
   "source": [
    "model.predict(single_image4)"
   ]
  },
  {
   "cell_type": "code",
   "execution_count": null,
   "id": "38709b5b",
   "metadata": {},
   "outputs": [],
   "source": []
  }
 ],
 "metadata": {
  "kernelspec": {
   "display_name": "Python 3 (ipykernel)",
   "language": "python",
   "name": "python3"
  },
  "language_info": {
   "codemirror_mode": {
    "name": "ipython",
    "version": 3
   },
   "file_extension": ".py",
   "mimetype": "text/x-python",
   "name": "python",
   "nbconvert_exporter": "python",
   "pygments_lexer": "ipython3",
   "version": "3.7.0"
  }
 },
 "nbformat": 4,
 "nbformat_minor": 5
}
