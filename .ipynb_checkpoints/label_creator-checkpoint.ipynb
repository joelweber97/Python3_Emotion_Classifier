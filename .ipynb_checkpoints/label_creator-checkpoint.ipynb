{
 "cells": [
  {
   "cell_type": "code",
   "execution_count": 1,
   "id": "565a725a",
   "metadata": {},
   "outputs": [],
   "source": [
    "import glob\n",
    "import os"
   ]
  },
  {
   "cell_type": "code",
   "execution_count": 2,
   "id": "0ab63bca",
   "metadata": {},
   "outputs": [],
   "source": [
    "files = glob.glob('emotion_images/train/*/*')"
   ]
  },
  {
   "cell_type": "code",
   "execution_count": 3,
   "id": "bd6e377b",
   "metadata": {},
   "outputs": [
    {
     "data": {
      "text/plain": [
       "28709"
      ]
     },
     "execution_count": 3,
     "metadata": {},
     "output_type": "execute_result"
    }
   ],
   "source": [
    "len(files)"
   ]
  },
  {
   "cell_type": "code",
   "execution_count": 4,
   "id": "446dd109",
   "metadata": {},
   "outputs": [
    {
     "data": {
      "text/plain": [
       "['emotion_images/train/happy/Training_50449107.jpg',\n",
       " 'emotion_images/train/happy/Training_70433018.jpg',\n",
       " 'emotion_images/train/happy/Training_85610005.jpg',\n",
       " 'emotion_images/train/happy/Training_4460748.jpg',\n",
       " 'emotion_images/train/happy/Training_6312930.jpg',\n",
       " 'emotion_images/train/happy/Training_25740534.jpg',\n",
       " 'emotion_images/train/happy/Training_80076077.jpg',\n",
       " 'emotion_images/train/happy/Training_431681.jpg',\n",
       " 'emotion_images/train/happy/Training_76432922.jpg',\n",
       " 'emotion_images/train/happy/Training_53152280.jpg']"
      ]
     },
     "execution_count": 4,
     "metadata": {},
     "output_type": "execute_result"
    }
   ],
   "source": [
    "files[0:10]"
   ]
  },
  {
   "cell_type": "code",
   "execution_count": 9,
   "id": "ec3ada26",
   "metadata": {},
   "outputs": [],
   "source": [
    "test_file = files[0:2]"
   ]
  },
  {
   "cell_type": "code",
   "execution_count": 10,
   "id": "aa799fda",
   "metadata": {},
   "outputs": [
    {
     "ename": "AttributeError",
     "evalue": "'list' object has no attribute 'split'",
     "output_type": "error",
     "traceback": [
      "\u001b[0;31m---------------------------------------------------------------------------\u001b[0m",
      "\u001b[0;31mAttributeError\u001b[0m                            Traceback (most recent call last)",
      "\u001b[0;32m/var/folders/m6/7phd8r7j7dx4l10fptlppnv80000gn/T/ipykernel_56620/3172530354.py\u001b[0m in \u001b[0;36m<module>\u001b[0;34m\u001b[0m\n\u001b[0;32m----> 1\u001b[0;31m \u001b[0mtest_file\u001b[0m\u001b[0;34m.\u001b[0m\u001b[0msplit\u001b[0m\u001b[0;34m(\u001b[0m\u001b[0;34m'/'\u001b[0m\u001b[0;34m)\u001b[0m\u001b[0;34m\u001b[0m\u001b[0m\n\u001b[0m",
      "\u001b[0;31mAttributeError\u001b[0m: 'list' object has no attribute 'split'"
     ]
    }
   ],
   "source": []
  },
  {
   "cell_type": "code",
   "execution_count": 12,
   "id": "016c7180",
   "metadata": {},
   "outputs": [],
   "source": [
    "test = []\n",
    "for i in test_file:\n",
    "    test.append(i.split('/')[2])"
   ]
  },
  {
   "cell_type": "code",
   "execution_count": null,
   "id": "ca811064",
   "metadata": {},
   "outputs": [],
   "source": []
  }
 ],
 "metadata": {
  "kernelspec": {
   "display_name": "Python 3 (ipykernel)",
   "language": "python",
   "name": "python3"
  },
  "language_info": {
   "codemirror_mode": {
    "name": "ipython",
    "version": 3
   },
   "file_extension": ".py",
   "mimetype": "text/x-python",
   "name": "python",
   "nbconvert_exporter": "python",
   "pygments_lexer": "ipython3",
   "version": "3.7.0"
  }
 },
 "nbformat": 4,
 "nbformat_minor": 5
}
