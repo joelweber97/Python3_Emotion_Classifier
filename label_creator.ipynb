{
 "cells": [
  {
   "cell_type": "code",
   "execution_count": 1,
   "id": "a40195b2",
   "metadata": {},
   "outputs": [],
   "source": [
    "import glob\n",
    "import os\n",
    "import pandas as pd\n",
    "import numpy as np\n",
    "import cv2\n",
    "import tensorflow as tf\n",
    "from tensorflow.keras import optimizers\n",
    "from tensorflow.keras.models import Sequential\n",
    "from tensorflow.keras.callbacks import Callback, EarlyStopping, ReduceLROnPlateau\n",
    "from tensorflow.keras.layers import Dense, MaxPooling2D, Conv2D, Flatten\n",
    "from tensorflow.keras.layers import Dropout, BatchNormalization, LeakyReLU, Activation\n",
    "from sklearn import metrics\n",
    "from sklearn.model_selection import train_test_split\n",
    "import matplotlib.pyplot as plt"
   ]
  },
  {
   "cell_type": "code",
   "execution_count": 2,
   "id": "02c25fab",
   "metadata": {},
   "outputs": [],
   "source": [
    "fear = []\n",
    "happy = []\n",
    "angry = []\n",
    "neutral = []"
   ]
  },
  {
   "cell_type": "code",
   "execution_count": 3,
   "id": "49994e1b",
   "metadata": {},
   "outputs": [
    {
     "ename": "AttributeError",
     "evalue": "module 'tensorflow_core._api.v2.config' has no attribute 'list_physical_devices'",
     "output_type": "error",
     "traceback": [
      "\u001b[0;31m---------------------------------------------------------------------------\u001b[0m",
      "\u001b[0;31mAttributeError\u001b[0m                            Traceback (most recent call last)",
      "\u001b[0;32m/var/folders/m6/7phd8r7j7dx4l10fptlppnv80000gn/T/ipykernel_67271/1561540886.py\u001b[0m in \u001b[0;36m<module>\u001b[0;34m\u001b[0m\n\u001b[0;32m----> 1\u001b[0;31m \u001b[0mtf\u001b[0m\u001b[0;34m.\u001b[0m\u001b[0mconfig\u001b[0m\u001b[0;34m.\u001b[0m\u001b[0mlist_physical_devices\u001b[0m\u001b[0;34m(\u001b[0m\u001b[0;34m'GPU'\u001b[0m\u001b[0;34m)\u001b[0m\u001b[0;34m\u001b[0m\u001b[0m\n\u001b[0m",
      "\u001b[0;31mAttributeError\u001b[0m: module 'tensorflow_core._api.v2.config' has no attribute 'list_physical_devices'"
     ]
    }
   ],
   "source": [
    "tf.config.list_physical_devices('GPU')"
   ]
  },
  {
   "cell_type": "code",
   "execution_count": 32,
   "id": "df4485db",
   "metadata": {},
   "outputs": [],
   "source": [
    "def label_creator():\n",
    "    files = glob.glob('emotion_images/train/*/*')\n",
    "    len(files)\n",
    "    files[0:10]\n",
    "    \n",
    "    emotions = []\n",
    "    filename = []\n",
    "    for i in files:\n",
    "        path = i.replace('\\\\', '/')\n",
    "        emotions.append(path.split('/')[2])\n",
    "        filename.append(path.split('/')[3])\n",
    "\n",
    "    outfile = list(zip(files, filename, emotions))\n",
    "\n",
    "    df = pd.DataFrame(outfile, columns = ['path', 'filename', 'emotion'])\n",
    "    df['emotion_value'] = df['emotion']\n",
    "    #dummies = pd.get_dummies(df, columns = ['emotion'])\n",
    "    #return dummies\n",
    "    return df\n",
    "\n",
    "\n"
   ]
  },
  {
   "cell_type": "code",
   "execution_count": 33,
   "id": "883ebf12",
   "metadata": {},
   "outputs": [],
   "source": [
    "df = label_creator()\n",
    "#dummies"
   ]
  },
  {
   "cell_type": "code",
   "execution_count": 34,
   "id": "59ef1419",
   "metadata": {},
   "outputs": [
    {
     "data": {
      "text/plain": [
       "happy       7215\n",
       "neutral     4965\n",
       "sad         4830\n",
       "fear        4097\n",
       "angry       3995\n",
       "surprise    3171\n",
       "disgust      436\n",
       "Name: emotion_value, dtype: int64"
      ]
     },
     "execution_count": 34,
     "metadata": {},
     "output_type": "execute_result"
    }
   ],
   "source": [
    "df\n",
    "df['emotion_value'].value_counts()"
   ]
  },
  {
   "cell_type": "code",
   "execution_count": 35,
   "id": "2e1f88a2",
   "metadata": {},
   "outputs": [
    {
     "data": {
      "text/html": [
       "<div>\n",
       "<style scoped>\n",
       "    .dataframe tbody tr th:only-of-type {\n",
       "        vertical-align: middle;\n",
       "    }\n",
       "\n",
       "    .dataframe tbody tr th {\n",
       "        vertical-align: top;\n",
       "    }\n",
       "\n",
       "    .dataframe thead th {\n",
       "        text-align: right;\n",
       "    }\n",
       "</style>\n",
       "<table border=\"1\" class=\"dataframe\">\n",
       "  <thead>\n",
       "    <tr style=\"text-align: right;\">\n",
       "      <th></th>\n",
       "      <th>path</th>\n",
       "      <th>filename</th>\n",
       "      <th>emotion</th>\n",
       "      <th>emotion_value</th>\n",
       "    </tr>\n",
       "  </thead>\n",
       "  <tbody>\n",
       "    <tr>\n",
       "      <th>0</th>\n",
       "      <td>emotion_images/train/happy/Training_50449107.jpg</td>\n",
       "      <td>Training_50449107.jpg</td>\n",
       "      <td>happy</td>\n",
       "      <td>happy</td>\n",
       "    </tr>\n",
       "    <tr>\n",
       "      <th>1</th>\n",
       "      <td>emotion_images/train/happy/Training_70433018.jpg</td>\n",
       "      <td>Training_70433018.jpg</td>\n",
       "      <td>happy</td>\n",
       "      <td>happy</td>\n",
       "    </tr>\n",
       "    <tr>\n",
       "      <th>2</th>\n",
       "      <td>emotion_images/train/happy/Training_85610005.jpg</td>\n",
       "      <td>Training_85610005.jpg</td>\n",
       "      <td>happy</td>\n",
       "      <td>happy</td>\n",
       "    </tr>\n",
       "    <tr>\n",
       "      <th>3</th>\n",
       "      <td>emotion_images/train/happy/Training_4460748.jpg</td>\n",
       "      <td>Training_4460748.jpg</td>\n",
       "      <td>happy</td>\n",
       "      <td>happy</td>\n",
       "    </tr>\n",
       "    <tr>\n",
       "      <th>4</th>\n",
       "      <td>emotion_images/train/happy/Training_6312930.jpg</td>\n",
       "      <td>Training_6312930.jpg</td>\n",
       "      <td>happy</td>\n",
       "      <td>happy</td>\n",
       "    </tr>\n",
       "    <tr>\n",
       "      <th>...</th>\n",
       "      <td>...</td>\n",
       "      <td>...</td>\n",
       "      <td>...</td>\n",
       "      <td>...</td>\n",
       "    </tr>\n",
       "    <tr>\n",
       "      <th>28704</th>\n",
       "      <td>emotion_images/train/disgust/Training_94788538...</td>\n",
       "      <td>Training_94788538.jpg</td>\n",
       "      <td>disgust</td>\n",
       "      <td>disgust</td>\n",
       "    </tr>\n",
       "    <tr>\n",
       "      <th>28705</th>\n",
       "      <td>emotion_images/train/disgust/Training_81049148...</td>\n",
       "      <td>Training_81049148.jpg</td>\n",
       "      <td>disgust</td>\n",
       "      <td>disgust</td>\n",
       "    </tr>\n",
       "    <tr>\n",
       "      <th>28706</th>\n",
       "      <td>emotion_images/train/disgust/Training_28365203...</td>\n",
       "      <td>Training_28365203.jpg</td>\n",
       "      <td>disgust</td>\n",
       "      <td>disgust</td>\n",
       "    </tr>\n",
       "    <tr>\n",
       "      <th>28707</th>\n",
       "      <td>emotion_images/train/disgust/Training_39197750...</td>\n",
       "      <td>Training_39197750.jpg</td>\n",
       "      <td>disgust</td>\n",
       "      <td>disgust</td>\n",
       "    </tr>\n",
       "    <tr>\n",
       "      <th>28708</th>\n",
       "      <td>emotion_images/train/disgust/Training_12525818...</td>\n",
       "      <td>Training_12525818.jpg</td>\n",
       "      <td>disgust</td>\n",
       "      <td>disgust</td>\n",
       "    </tr>\n",
       "  </tbody>\n",
       "</table>\n",
       "<p>28709 rows × 4 columns</p>\n",
       "</div>"
      ],
      "text/plain": [
       "                                                    path  \\\n",
       "0       emotion_images/train/happy/Training_50449107.jpg   \n",
       "1       emotion_images/train/happy/Training_70433018.jpg   \n",
       "2       emotion_images/train/happy/Training_85610005.jpg   \n",
       "3        emotion_images/train/happy/Training_4460748.jpg   \n",
       "4        emotion_images/train/happy/Training_6312930.jpg   \n",
       "...                                                  ...   \n",
       "28704  emotion_images/train/disgust/Training_94788538...   \n",
       "28705  emotion_images/train/disgust/Training_81049148...   \n",
       "28706  emotion_images/train/disgust/Training_28365203...   \n",
       "28707  emotion_images/train/disgust/Training_39197750...   \n",
       "28708  emotion_images/train/disgust/Training_12525818...   \n",
       "\n",
       "                    filename  emotion emotion_value  \n",
       "0      Training_50449107.jpg    happy         happy  \n",
       "1      Training_70433018.jpg    happy         happy  \n",
       "2      Training_85610005.jpg    happy         happy  \n",
       "3       Training_4460748.jpg    happy         happy  \n",
       "4       Training_6312930.jpg    happy         happy  \n",
       "...                      ...      ...           ...  \n",
       "28704  Training_94788538.jpg  disgust       disgust  \n",
       "28705  Training_81049148.jpg  disgust       disgust  \n",
       "28706  Training_28365203.jpg  disgust       disgust  \n",
       "28707  Training_39197750.jpg  disgust       disgust  \n",
       "28708  Training_12525818.jpg  disgust       disgust  \n",
       "\n",
       "[28709 rows x 4 columns]"
      ]
     },
     "execution_count": 35,
     "metadata": {},
     "output_type": "execute_result"
    }
   ],
   "source": [
    "df"
   ]
  },
  {
   "cell_type": "code",
   "execution_count": 36,
   "id": "845299ce",
   "metadata": {},
   "outputs": [
    {
     "data": {
      "text/html": [
       "<div>\n",
       "<style scoped>\n",
       "    .dataframe tbody tr th:only-of-type {\n",
       "        vertical-align: middle;\n",
       "    }\n",
       "\n",
       "    .dataframe tbody tr th {\n",
       "        vertical-align: top;\n",
       "    }\n",
       "\n",
       "    .dataframe thead th {\n",
       "        text-align: right;\n",
       "    }\n",
       "</style>\n",
       "<table border=\"1\" class=\"dataframe\">\n",
       "  <thead>\n",
       "    <tr style=\"text-align: right;\">\n",
       "      <th></th>\n",
       "      <th>path</th>\n",
       "      <th>filename</th>\n",
       "      <th>emotion</th>\n",
       "      <th>emotion_value</th>\n",
       "    </tr>\n",
       "  </thead>\n",
       "  <tbody>\n",
       "    <tr>\n",
       "      <th>19313</th>\n",
       "      <td>emotion_images/train/neutral/Training_27707774...</td>\n",
       "      <td>Training_27707774.jpg</td>\n",
       "      <td>neutral</td>\n",
       "      <td>neutral</td>\n",
       "    </tr>\n",
       "    <tr>\n",
       "      <th>19314</th>\n",
       "      <td>emotion_images/train/neutral/Training_22310147...</td>\n",
       "      <td>Training_22310147.jpg</td>\n",
       "      <td>neutral</td>\n",
       "      <td>neutral</td>\n",
       "    </tr>\n",
       "    <tr>\n",
       "      <th>19315</th>\n",
       "      <td>emotion_images/train/neutral/Training_64310277...</td>\n",
       "      <td>Training_64310277.jpg</td>\n",
       "      <td>neutral</td>\n",
       "      <td>neutral</td>\n",
       "    </tr>\n",
       "    <tr>\n",
       "      <th>19316</th>\n",
       "      <td>emotion_images/train/neutral/Training_7510099.jpg</td>\n",
       "      <td>Training_7510099.jpg</td>\n",
       "      <td>neutral</td>\n",
       "      <td>neutral</td>\n",
       "    </tr>\n",
       "    <tr>\n",
       "      <th>19317</th>\n",
       "      <td>emotion_images/train/neutral/Training_27349834...</td>\n",
       "      <td>Training_27349834.jpg</td>\n",
       "      <td>neutral</td>\n",
       "      <td>neutral</td>\n",
       "    </tr>\n",
       "    <tr>\n",
       "      <th>...</th>\n",
       "      <td>...</td>\n",
       "      <td>...</td>\n",
       "      <td>...</td>\n",
       "      <td>...</td>\n",
       "    </tr>\n",
       "    <tr>\n",
       "      <th>12040</th>\n",
       "      <td>emotion_images/train/sad/Training_34443905.jpg</td>\n",
       "      <td>Training_34443905.jpg</td>\n",
       "      <td>sad</td>\n",
       "      <td>sad</td>\n",
       "    </tr>\n",
       "    <tr>\n",
       "      <th>12041</th>\n",
       "      <td>emotion_images/train/sad/Training_39739035.jpg</td>\n",
       "      <td>Training_39739035.jpg</td>\n",
       "      <td>sad</td>\n",
       "      <td>sad</td>\n",
       "    </tr>\n",
       "    <tr>\n",
       "      <th>12042</th>\n",
       "      <td>emotion_images/train/sad/Training_30529781.jpg</td>\n",
       "      <td>Training_30529781.jpg</td>\n",
       "      <td>sad</td>\n",
       "      <td>sad</td>\n",
       "    </tr>\n",
       "    <tr>\n",
       "      <th>12043</th>\n",
       "      <td>emotion_images/train/sad/Training_62983628.jpg</td>\n",
       "      <td>Training_62983628.jpg</td>\n",
       "      <td>sad</td>\n",
       "      <td>sad</td>\n",
       "    </tr>\n",
       "    <tr>\n",
       "      <th>12044</th>\n",
       "      <td>emotion_images/train/sad/Training_60054163.jpg</td>\n",
       "      <td>Training_60054163.jpg</td>\n",
       "      <td>sad</td>\n",
       "      <td>sad</td>\n",
       "    </tr>\n",
       "  </tbody>\n",
       "</table>\n",
       "<p>9795 rows × 4 columns</p>\n",
       "</div>"
      ],
      "text/plain": [
       "                                                    path  \\\n",
       "19313  emotion_images/train/neutral/Training_27707774...   \n",
       "19314  emotion_images/train/neutral/Training_22310147...   \n",
       "19315  emotion_images/train/neutral/Training_64310277...   \n",
       "19316  emotion_images/train/neutral/Training_7510099.jpg   \n",
       "19317  emotion_images/train/neutral/Training_27349834...   \n",
       "...                                                  ...   \n",
       "12040     emotion_images/train/sad/Training_34443905.jpg   \n",
       "12041     emotion_images/train/sad/Training_39739035.jpg   \n",
       "12042     emotion_images/train/sad/Training_30529781.jpg   \n",
       "12043     emotion_images/train/sad/Training_62983628.jpg   \n",
       "12044     emotion_images/train/sad/Training_60054163.jpg   \n",
       "\n",
       "                    filename  emotion emotion_value  \n",
       "19313  Training_27707774.jpg  neutral       neutral  \n",
       "19314  Training_22310147.jpg  neutral       neutral  \n",
       "19315  Training_64310277.jpg  neutral       neutral  \n",
       "19316   Training_7510099.jpg  neutral       neutral  \n",
       "19317  Training_27349834.jpg  neutral       neutral  \n",
       "...                      ...      ...           ...  \n",
       "12040  Training_34443905.jpg      sad           sad  \n",
       "12041  Training_39739035.jpg      sad           sad  \n",
       "12042  Training_30529781.jpg      sad           sad  \n",
       "12043  Training_62983628.jpg      sad           sad  \n",
       "12044  Training_60054163.jpg      sad           sad  \n",
       "\n",
       "[9795 rows x 4 columns]"
      ]
     },
     "execution_count": 36,
     "metadata": {},
     "output_type": "execute_result"
    }
   ],
   "source": [
    "#select only neutral and happy to test classification\n",
    "cropped = df[df['emotion_value'] == 'neutral']\n",
    "cropped1 = df[df['emotion_value'] == 'sad']\n",
    "cropped = cropped.append(cropped1)\n",
    "cropped['emotion_value'].value_counts()\n",
    "df = cropped\n",
    "df"
   ]
  },
  {
   "cell_type": "code",
   "execution_count": 39,
   "id": "9b2ff8ae",
   "metadata": {},
   "outputs": [
    {
     "data": {
      "text/html": [
       "<div>\n",
       "<style scoped>\n",
       "    .dataframe tbody tr th:only-of-type {\n",
       "        vertical-align: middle;\n",
       "    }\n",
       "\n",
       "    .dataframe tbody tr th {\n",
       "        vertical-align: top;\n",
       "    }\n",
       "\n",
       "    .dataframe thead th {\n",
       "        text-align: right;\n",
       "    }\n",
       "</style>\n",
       "<table border=\"1\" class=\"dataframe\">\n",
       "  <thead>\n",
       "    <tr style=\"text-align: right;\">\n",
       "      <th></th>\n",
       "      <th>path</th>\n",
       "      <th>filename</th>\n",
       "      <th>emotion</th>\n",
       "      <th>emotion_value</th>\n",
       "      <th>sad</th>\n",
       "    </tr>\n",
       "  </thead>\n",
       "  <tbody>\n",
       "    <tr>\n",
       "      <th>19313</th>\n",
       "      <td>emotion_images/train/neutral/Training_27707774...</td>\n",
       "      <td>Training_27707774.jpg</td>\n",
       "      <td>neutral</td>\n",
       "      <td>neutral</td>\n",
       "      <td>0</td>\n",
       "    </tr>\n",
       "    <tr>\n",
       "      <th>19314</th>\n",
       "      <td>emotion_images/train/neutral/Training_22310147...</td>\n",
       "      <td>Training_22310147.jpg</td>\n",
       "      <td>neutral</td>\n",
       "      <td>neutral</td>\n",
       "      <td>0</td>\n",
       "    </tr>\n",
       "    <tr>\n",
       "      <th>19315</th>\n",
       "      <td>emotion_images/train/neutral/Training_64310277...</td>\n",
       "      <td>Training_64310277.jpg</td>\n",
       "      <td>neutral</td>\n",
       "      <td>neutral</td>\n",
       "      <td>0</td>\n",
       "    </tr>\n",
       "    <tr>\n",
       "      <th>19316</th>\n",
       "      <td>emotion_images/train/neutral/Training_7510099.jpg</td>\n",
       "      <td>Training_7510099.jpg</td>\n",
       "      <td>neutral</td>\n",
       "      <td>neutral</td>\n",
       "      <td>0</td>\n",
       "    </tr>\n",
       "    <tr>\n",
       "      <th>19317</th>\n",
       "      <td>emotion_images/train/neutral/Training_27349834...</td>\n",
       "      <td>Training_27349834.jpg</td>\n",
       "      <td>neutral</td>\n",
       "      <td>neutral</td>\n",
       "      <td>0</td>\n",
       "    </tr>\n",
       "    <tr>\n",
       "      <th>...</th>\n",
       "      <td>...</td>\n",
       "      <td>...</td>\n",
       "      <td>...</td>\n",
       "      <td>...</td>\n",
       "      <td>...</td>\n",
       "    </tr>\n",
       "    <tr>\n",
       "      <th>12040</th>\n",
       "      <td>emotion_images/train/sad/Training_34443905.jpg</td>\n",
       "      <td>Training_34443905.jpg</td>\n",
       "      <td>sad</td>\n",
       "      <td>sad</td>\n",
       "      <td>1</td>\n",
       "    </tr>\n",
       "    <tr>\n",
       "      <th>12041</th>\n",
       "      <td>emotion_images/train/sad/Training_39739035.jpg</td>\n",
       "      <td>Training_39739035.jpg</td>\n",
       "      <td>sad</td>\n",
       "      <td>sad</td>\n",
       "      <td>1</td>\n",
       "    </tr>\n",
       "    <tr>\n",
       "      <th>12042</th>\n",
       "      <td>emotion_images/train/sad/Training_30529781.jpg</td>\n",
       "      <td>Training_30529781.jpg</td>\n",
       "      <td>sad</td>\n",
       "      <td>sad</td>\n",
       "      <td>1</td>\n",
       "    </tr>\n",
       "    <tr>\n",
       "      <th>12043</th>\n",
       "      <td>emotion_images/train/sad/Training_62983628.jpg</td>\n",
       "      <td>Training_62983628.jpg</td>\n",
       "      <td>sad</td>\n",
       "      <td>sad</td>\n",
       "      <td>1</td>\n",
       "    </tr>\n",
       "    <tr>\n",
       "      <th>12044</th>\n",
       "      <td>emotion_images/train/sad/Training_60054163.jpg</td>\n",
       "      <td>Training_60054163.jpg</td>\n",
       "      <td>sad</td>\n",
       "      <td>sad</td>\n",
       "      <td>1</td>\n",
       "    </tr>\n",
       "  </tbody>\n",
       "</table>\n",
       "<p>9795 rows × 5 columns</p>\n",
       "</div>"
      ],
      "text/plain": [
       "                                                    path  \\\n",
       "19313  emotion_images/train/neutral/Training_27707774...   \n",
       "19314  emotion_images/train/neutral/Training_22310147...   \n",
       "19315  emotion_images/train/neutral/Training_64310277...   \n",
       "19316  emotion_images/train/neutral/Training_7510099.jpg   \n",
       "19317  emotion_images/train/neutral/Training_27349834...   \n",
       "...                                                  ...   \n",
       "12040     emotion_images/train/sad/Training_34443905.jpg   \n",
       "12041     emotion_images/train/sad/Training_39739035.jpg   \n",
       "12042     emotion_images/train/sad/Training_30529781.jpg   \n",
       "12043     emotion_images/train/sad/Training_62983628.jpg   \n",
       "12044     emotion_images/train/sad/Training_60054163.jpg   \n",
       "\n",
       "                    filename  emotion emotion_value  sad  \n",
       "19313  Training_27707774.jpg  neutral       neutral    0  \n",
       "19314  Training_22310147.jpg  neutral       neutral    0  \n",
       "19315  Training_64310277.jpg  neutral       neutral    0  \n",
       "19316   Training_7510099.jpg  neutral       neutral    0  \n",
       "19317  Training_27349834.jpg  neutral       neutral    0  \n",
       "...                      ...      ...           ...  ...  \n",
       "12040  Training_34443905.jpg      sad           sad    1  \n",
       "12041  Training_39739035.jpg      sad           sad    1  \n",
       "12042  Training_30529781.jpg      sad           sad    1  \n",
       "12043  Training_62983628.jpg      sad           sad    1  \n",
       "12044  Training_60054163.jpg      sad           sad    1  \n",
       "\n",
       "[9795 rows x 5 columns]"
      ]
     },
     "execution_count": 39,
     "metadata": {},
     "output_type": "execute_result"
    }
   ],
   "source": [
    "#get dummies for the two classes\n",
    "df['sad'] = pd.get_dummies(df['emotion_value'], drop_first=True)\n",
    "df"
   ]
  },
  {
   "cell_type": "code",
   "execution_count": 40,
   "id": "edd56ad5",
   "metadata": {},
   "outputs": [
    {
     "data": {
      "text/html": [
       "<div>\n",
       "<style scoped>\n",
       "    .dataframe tbody tr th:only-of-type {\n",
       "        vertical-align: middle;\n",
       "    }\n",
       "\n",
       "    .dataframe tbody tr th {\n",
       "        vertical-align: top;\n",
       "    }\n",
       "\n",
       "    .dataframe thead th {\n",
       "        text-align: right;\n",
       "    }\n",
       "</style>\n",
       "<table border=\"1\" class=\"dataframe\">\n",
       "  <thead>\n",
       "    <tr style=\"text-align: right;\">\n",
       "      <th></th>\n",
       "      <th>path</th>\n",
       "      <th>filename</th>\n",
       "      <th>emotion</th>\n",
       "      <th>emotion_value</th>\n",
       "      <th>sad</th>\n",
       "    </tr>\n",
       "  </thead>\n",
       "  <tbody>\n",
       "    <tr>\n",
       "      <th>0</th>\n",
       "      <td>emotion_images/train/sad/Training_20814766.jpg</td>\n",
       "      <td>Training_20814766.jpg</td>\n",
       "      <td>sad</td>\n",
       "      <td>sad</td>\n",
       "      <td>1</td>\n",
       "    </tr>\n",
       "    <tr>\n",
       "      <th>1</th>\n",
       "      <td>emotion_images/train/sad/Training_66564605.jpg</td>\n",
       "      <td>Training_66564605.jpg</td>\n",
       "      <td>sad</td>\n",
       "      <td>sad</td>\n",
       "      <td>1</td>\n",
       "    </tr>\n",
       "    <tr>\n",
       "      <th>2</th>\n",
       "      <td>emotion_images/train/sad/Training_20336575.jpg</td>\n",
       "      <td>Training_20336575.jpg</td>\n",
       "      <td>sad</td>\n",
       "      <td>sad</td>\n",
       "      <td>1</td>\n",
       "    </tr>\n",
       "    <tr>\n",
       "      <th>3</th>\n",
       "      <td>emotion_images/train/neutral/Training_88192527...</td>\n",
       "      <td>Training_88192527.jpg</td>\n",
       "      <td>neutral</td>\n",
       "      <td>neutral</td>\n",
       "      <td>0</td>\n",
       "    </tr>\n",
       "    <tr>\n",
       "      <th>4</th>\n",
       "      <td>emotion_images/train/neutral/Training_43948423...</td>\n",
       "      <td>Training_43948423.jpg</td>\n",
       "      <td>neutral</td>\n",
       "      <td>neutral</td>\n",
       "      <td>0</td>\n",
       "    </tr>\n",
       "    <tr>\n",
       "      <th>...</th>\n",
       "      <td>...</td>\n",
       "      <td>...</td>\n",
       "      <td>...</td>\n",
       "      <td>...</td>\n",
       "      <td>...</td>\n",
       "    </tr>\n",
       "    <tr>\n",
       "      <th>9790</th>\n",
       "      <td>emotion_images/train/sad/Training_14713987.jpg</td>\n",
       "      <td>Training_14713987.jpg</td>\n",
       "      <td>sad</td>\n",
       "      <td>sad</td>\n",
       "      <td>1</td>\n",
       "    </tr>\n",
       "    <tr>\n",
       "      <th>9791</th>\n",
       "      <td>emotion_images/train/sad/Training_23530127.jpg</td>\n",
       "      <td>Training_23530127.jpg</td>\n",
       "      <td>sad</td>\n",
       "      <td>sad</td>\n",
       "      <td>1</td>\n",
       "    </tr>\n",
       "    <tr>\n",
       "      <th>9792</th>\n",
       "      <td>emotion_images/train/neutral/Training_53188193...</td>\n",
       "      <td>Training_53188193.jpg</td>\n",
       "      <td>neutral</td>\n",
       "      <td>neutral</td>\n",
       "      <td>0</td>\n",
       "    </tr>\n",
       "    <tr>\n",
       "      <th>9793</th>\n",
       "      <td>emotion_images/train/neutral/Training_64207235...</td>\n",
       "      <td>Training_64207235.jpg</td>\n",
       "      <td>neutral</td>\n",
       "      <td>neutral</td>\n",
       "      <td>0</td>\n",
       "    </tr>\n",
       "    <tr>\n",
       "      <th>9794</th>\n",
       "      <td>emotion_images/train/neutral/Training_82139147...</td>\n",
       "      <td>Training_82139147.jpg</td>\n",
       "      <td>neutral</td>\n",
       "      <td>neutral</td>\n",
       "      <td>0</td>\n",
       "    </tr>\n",
       "  </tbody>\n",
       "</table>\n",
       "<p>9795 rows × 5 columns</p>\n",
       "</div>"
      ],
      "text/plain": [
       "                                                   path  \\\n",
       "0        emotion_images/train/sad/Training_20814766.jpg   \n",
       "1        emotion_images/train/sad/Training_66564605.jpg   \n",
       "2        emotion_images/train/sad/Training_20336575.jpg   \n",
       "3     emotion_images/train/neutral/Training_88192527...   \n",
       "4     emotion_images/train/neutral/Training_43948423...   \n",
       "...                                                 ...   \n",
       "9790     emotion_images/train/sad/Training_14713987.jpg   \n",
       "9791     emotion_images/train/sad/Training_23530127.jpg   \n",
       "9792  emotion_images/train/neutral/Training_53188193...   \n",
       "9793  emotion_images/train/neutral/Training_64207235...   \n",
       "9794  emotion_images/train/neutral/Training_82139147...   \n",
       "\n",
       "                   filename  emotion emotion_value  sad  \n",
       "0     Training_20814766.jpg      sad           sad    1  \n",
       "1     Training_66564605.jpg      sad           sad    1  \n",
       "2     Training_20336575.jpg      sad           sad    1  \n",
       "3     Training_88192527.jpg  neutral       neutral    0  \n",
       "4     Training_43948423.jpg  neutral       neutral    0  \n",
       "...                     ...      ...           ...  ...  \n",
       "9790  Training_14713987.jpg      sad           sad    1  \n",
       "9791  Training_23530127.jpg      sad           sad    1  \n",
       "9792  Training_53188193.jpg  neutral       neutral    0  \n",
       "9793  Training_64207235.jpg  neutral       neutral    0  \n",
       "9794  Training_82139147.jpg  neutral       neutral    0  \n",
       "\n",
       "[9795 rows x 5 columns]"
      ]
     },
     "execution_count": 40,
     "metadata": {},
     "output_type": "execute_result"
    }
   ],
   "source": [
    "df = df.sample(frac = 1, axis = 0, ignore_index = True)\n",
    "df"
   ]
  },
  {
   "cell_type": "code",
   "execution_count": 41,
   "id": "0a6ac9b4",
   "metadata": {},
   "outputs": [
    {
     "data": {
      "text/plain": [
       "neutral    4965\n",
       "sad        4830\n",
       "Name: emotion_value, dtype: int64"
      ]
     },
     "execution_count": 41,
     "metadata": {},
     "output_type": "execute_result"
    }
   ],
   "source": [
    "df['emotion_value'].value_counts()"
   ]
  },
  {
   "cell_type": "code",
   "execution_count": 121,
   "id": "0695f9c5",
   "metadata": {},
   "outputs": [],
   "source": [
    "imgs = []\n",
    "for i in df['path']:\n",
    "    img = cv2.imread(i)\n",
    "    img = cv2.cvtColor(img, cv2.COLOR_BGR2GRAY)\n",
    "    imgs.append(img)\n",
    "    \n",
    "    \n",
    "imgs = np.array(imgs)\n",
    "#imgs = tf.Variable(imgs)   \n",
    "    "
   ]
  },
  {
   "cell_type": "code",
   "execution_count": 122,
   "id": "ea5bf71b",
   "metadata": {},
   "outputs": [
    {
     "data": {
      "text/plain": [
       "(9795, 48, 48)"
      ]
     },
     "execution_count": 122,
     "metadata": {},
     "output_type": "execute_result"
    }
   ],
   "source": [
    "imgs.shape"
   ]
  },
  {
   "cell_type": "code",
   "execution_count": 123,
   "id": "cdc0856b",
   "metadata": {},
   "outputs": [],
   "source": [
    "imgs = imgs/255"
   ]
  },
  {
   "cell_type": "code",
   "execution_count": 184,
   "id": "6a89903a",
   "metadata": {},
   "outputs": [
    {
     "data": {
      "text/plain": [
       "array([[0.29019608, 0.29411765, 0.28627451, ..., 0.38039216, 0.38823529,\n",
       "        0.36078431],\n",
       "       [0.28627451, 0.29019608, 0.29019608, ..., 0.40392157, 0.41568627,\n",
       "        0.40392157],\n",
       "       [0.29411765, 0.29411765, 0.29019608, ..., 0.45098039, 0.43921569,\n",
       "        0.41568627],\n",
       "       ...,\n",
       "       [0.31372549, 0.31764706, 0.31764706, ..., 0.40392157, 0.40784314,\n",
       "        0.38823529],\n",
       "       [0.31764706, 0.31764706, 0.32156863, ..., 0.39215686, 0.39215686,\n",
       "        0.37254902],\n",
       "       [0.32156863, 0.32156863, 0.3254902 , ..., 0.39607843, 0.37254902,\n",
       "        0.35294118]])"
      ]
     },
     "execution_count": 184,
     "metadata": {},
     "output_type": "execute_result"
    }
   ],
   "source": [
    "imgs[0]"
   ]
  },
  {
   "cell_type": "code",
   "execution_count": 124,
   "id": "27132980",
   "metadata": {},
   "outputs": [
    {
     "data": {
      "text/plain": [
       "(9795, 48, 48)"
      ]
     },
     "execution_count": 124,
     "metadata": {},
     "output_type": "execute_result"
    }
   ],
   "source": [
    "imgs.shape"
   ]
  },
  {
   "cell_type": "code",
   "execution_count": 125,
   "id": "8ea162ac",
   "metadata": {},
   "outputs": [
    {
     "data": {
      "text/plain": [
       "array([1, 1, 1, ..., 0, 0, 0], dtype=uint8)"
      ]
     },
     "execution_count": 125,
     "metadata": {},
     "output_type": "execute_result"
    }
   ],
   "source": [
    "y_train = np.array(df[df.columns[-1]])\n",
    "y_train"
   ]
  },
  {
   "cell_type": "code",
   "execution_count": 126,
   "id": "08c57a37",
   "metadata": {},
   "outputs": [
    {
     "data": {
      "text/plain": [
       "(9795,)"
      ]
     },
     "execution_count": 126,
     "metadata": {},
     "output_type": "execute_result"
    }
   ],
   "source": [
    "y_train.shape"
   ]
  },
  {
   "cell_type": "code",
   "execution_count": 127,
   "id": "92952f45",
   "metadata": {},
   "outputs": [],
   "source": [
    "X_train = imgs"
   ]
  },
  {
   "cell_type": "code",
   "execution_count": 128,
   "id": "6dc4a99e",
   "metadata": {},
   "outputs": [
    {
     "data": {
      "text/plain": [
       "(9795, 48, 48)"
      ]
     },
     "execution_count": 128,
     "metadata": {},
     "output_type": "execute_result"
    }
   ],
   "source": [
    "X_train.shape"
   ]
  },
  {
   "cell_type": "code",
   "execution_count": null,
   "id": "6b90433f",
   "metadata": {},
   "outputs": [],
   "source": []
  },
  {
   "cell_type": "code",
   "execution_count": 129,
   "id": "e50b5a8c",
   "metadata": {},
   "outputs": [
    {
     "data": {
      "text/plain": [
       "(9795, 48, 48, 1)"
      ]
     },
     "execution_count": 129,
     "metadata": {},
     "output_type": "execute_result"
    }
   ],
   "source": [
    "X_train = np.expand_dims(X_train, axis = 3)\n",
    "X_train.shape"
   ]
  },
  {
   "cell_type": "code",
   "execution_count": null,
   "id": "08a5df86",
   "metadata": {},
   "outputs": [],
   "source": []
  },
  {
   "cell_type": "code",
   "execution_count": 130,
   "id": "affda670",
   "metadata": {},
   "outputs": [],
   "source": [
    "#split into training and validation set\n",
    "X_train, X_val, y_train, y_val = train_test_split(X_train, y_train, test_size = .1)"
   ]
  },
  {
   "cell_type": "code",
   "execution_count": 131,
   "id": "d63709e6",
   "metadata": {},
   "outputs": [
    {
     "data": {
      "text/plain": [
       "((8815, 48, 48, 1), (8815,))"
      ]
     },
     "execution_count": 131,
     "metadata": {},
     "output_type": "execute_result"
    }
   ],
   "source": [
    "X_train.shape, y_train.shape"
   ]
  },
  {
   "cell_type": "code",
   "execution_count": 132,
   "id": "d1186ed6",
   "metadata": {},
   "outputs": [
    {
     "data": {
      "text/plain": [
       "((980, 48, 48, 1), (980,))"
      ]
     },
     "execution_count": 132,
     "metadata": {},
     "output_type": "execute_result"
    }
   ],
   "source": [
    "X_val.shape, y_val.shape"
   ]
  },
  {
   "cell_type": "code",
   "execution_count": 133,
   "id": "4bce71a4",
   "metadata": {},
   "outputs": [],
   "source": [
    "#seems like i did this a second time before?\n",
    "#X_train = X_train/255"
   ]
  },
  {
   "cell_type": "code",
   "execution_count": 134,
   "id": "8f8bc55f",
   "metadata": {
    "scrolled": true
   },
   "outputs": [],
   "source": [
    "single_image = X_train[0]\n",
    "single_image.shape\n",
    "img_width, img_height, img_depth = single_image.shape\n",
    "img_width, img_height, img_depth\n",
    "#num_classes = y_train.shape[1]\n",
    "num_classes = 1"
   ]
  },
  {
   "cell_type": "code",
   "execution_count": 135,
   "id": "ba1e4792",
   "metadata": {},
   "outputs": [
    {
     "data": {
      "text/plain": [
       "(48, 48, 1)"
      ]
     },
     "execution_count": 135,
     "metadata": {},
     "output_type": "execute_result"
    }
   ],
   "source": [
    "single_image.shape"
   ]
  },
  {
   "cell_type": "code",
   "execution_count": 166,
   "id": "94ae94c3",
   "metadata": {},
   "outputs": [],
   "source": [
    "model = Sequential(name = 'DCNN')\n",
    "model.add(Conv2D(filters = 64, \n",
    "                kernel_size = (3,3), \n",
    "                input_shape=(img_width, img_height, img_depth),\n",
    "                padding = 'same',\n",
    "                activation = 'relu',\n",
    "                name = 'Conv2D_1'))\n",
    "\n",
    "model.add(MaxPooling2D(pool_size=(2,2), name='maxpool2d_1'))\n",
    "\n",
    "model.add(Conv2D(filters = 64,\n",
    "                kernel_size = (3,3),\n",
    "                padding = 'same',\n",
    "                activation = 'relu',\n",
    "                name = 'Conv2D_2'))\n",
    "\n",
    "model.add(MaxPooling2D(pool_size=(2,2), name = 'maxpool2d_2'))\n",
    "\n",
    "\n",
    "model.add(Conv2D(filters = 64,\n",
    "                  kernel_size = (3,3),\n",
    "                  padding = 'same',\n",
    "                  activation = 'relu',\n",
    "                  name = 'Conv2D_3'))\n",
    "\n",
    "model.add(MaxPooling2D(pool_size = (2,2), name = 'maxpool2d_3'))\n",
    "\n",
    "model.add(Conv2D(filters = 64,\n",
    "                  kernel_size = (3,3),\n",
    "                  padding = 'same',\n",
    "                  activation = 'relu',\n",
    "                  name = 'Conv2D_4'))\n",
    "\n",
    "model.add(MaxPooling2D(pool_size = (2,2), name = 'maxpool2d_4'))\n",
    "\n",
    "\n",
    "\n",
    "\n",
    "model.add(Flatten(name = 'flatten'))\n",
    "model.add(Dense(128,\n",
    "               activation = 'relu',\n",
    "               name = 'dense_1'))\n",
    "\n",
    "model.add(Dense(128,\n",
    "               activation = 'relu',\n",
    "               name = 'dense_2'))\n",
    "\n",
    "model.add(Dense(128,\n",
    "               activation = 'relu',\n",
    "               name = 'dense_3'))\n",
    "\n",
    "model.add(Dense(num_classes,\n",
    "               activation = 'sigmoid',\n",
    "               name = 'output_layer'))\n"
   ]
  },
  {
   "cell_type": "code",
   "execution_count": 180,
   "id": "8824e551",
   "metadata": {},
   "outputs": [],
   "source": [
    "model = Sequential(name='DCNN')\n",
    "\n",
    "model.add(\n",
    "    Conv2D(\n",
    "        filters=64,\n",
    "        kernel_size=(5,5),\n",
    "        input_shape=(img_width, img_height, img_depth),\n",
    "        activation='elu',\n",
    "        padding='same',\n",
    "        kernel_initializer='he_normal',\n",
    "        name='conv2d_1'\n",
    "    )\n",
    ")\n",
    "model.add(BatchNormalization(name='batchnorm_1'))\n",
    "model.add(\n",
    "    Conv2D(\n",
    "        filters=64,\n",
    "        kernel_size=(5,5),\n",
    "        activation='elu',\n",
    "        padding='same',\n",
    "        kernel_initializer='he_normal',\n",
    "        name='conv2d_2'\n",
    "    )\n",
    ")\n",
    "model.add(BatchNormalization(name='batchnorm_2'))\n",
    "\n",
    "model.add(MaxPooling2D(pool_size=(2,2), name='maxpool2d_1'))\n",
    "model.add(Dropout(0.4, name='dropout_1'))\n",
    "\n",
    "model.add(\n",
    "    Conv2D(\n",
    "        filters=128,\n",
    "        kernel_size=(3,3),\n",
    "        activation='elu',\n",
    "        padding='same',\n",
    "        kernel_initializer='he_normal',\n",
    "        name='conv2d_3'\n",
    "    )\n",
    ")\n",
    "model.add(BatchNormalization(name='batchnorm_3'))\n",
    "model.add(\n",
    "    Conv2D(\n",
    "        filters=128,\n",
    "        kernel_size=(3,3),\n",
    "        activation='elu',\n",
    "        padding='same',\n",
    "        kernel_initializer='he_normal',\n",
    "        name='conv2d_4'\n",
    "    )\n",
    ")\n",
    "model.add(BatchNormalization(name='batchnorm_4'))\n",
    "\n",
    "model.add(MaxPooling2D(pool_size=(2,2), name='maxpool2d_2'))\n",
    "model.add(Dropout(0.4, name='dropout_2'))\n",
    "\n",
    "model.add(\n",
    "    Conv2D(\n",
    "        filters=256,\n",
    "        kernel_size=(3,3),\n",
    "        activation='elu',\n",
    "        padding='same',\n",
    "        kernel_initializer='he_normal',\n",
    "        name='conv2d_5'\n",
    "    )\n",
    ")\n",
    "model.add(BatchNormalization(name='batchnorm_5'))\n",
    "model.add(\n",
    "    Conv2D(\n",
    "        filters=256,\n",
    "        kernel_size=(3,3),\n",
    "        activation='elu',\n",
    "        padding='same',\n",
    "        kernel_initializer='he_normal',\n",
    "        name='conv2d_6'\n",
    "    )\n",
    ")\n",
    "model.add(BatchNormalization(name='batchnorm_6'))\n",
    "\n",
    "model.add(MaxPooling2D(pool_size=(2,2), name='maxpool2d_3'))\n",
    "model.add(Dropout(0.5, name='dropout_3'))\n",
    "\n",
    "model.add(Flatten(name='flatten'))\n",
    "\n",
    "model.add(\n",
    "    Dense(\n",
    "        128,\n",
    "        activation='elu',\n",
    "        kernel_initializer='he_normal',\n",
    "        name='dense_1'\n",
    "    )\n",
    ")\n",
    "model.add(BatchNormalization(name='batchnorm_7'))\n",
    "\n",
    "model.add(Dropout(0.6, name='dropout_4'))\n",
    "\n",
    "model.add(\n",
    "    Dense(\n",
    "        num_classes,\n",
    "        activation='softmax',\n",
    "        name='out_layer'\n",
    "    )\n",
    ")\n",
    "\n",
    "model.compile(\n",
    "    loss='categorical_crossentropy',\n",
    "    optimizer=tf.keras.optimizers.SGD(),\n",
    "    metrics=['accuracy']\n",
    ")"
   ]
  },
  {
   "cell_type": "code",
   "execution_count": 175,
   "id": "1abf3a37",
   "metadata": {},
   "outputs": [
    {
     "name": "stdout",
     "output_type": "stream",
     "text": [
      "Model: \"DCNN\"\n",
      "_________________________________________________________________\n",
      "Layer (type)                 Output Shape              Param #   \n",
      "=================================================================\n",
      "conv2d_1 (Conv2D)            (None, 48, 48, 64)        1664      \n",
      "_________________________________________________________________\n",
      "batchnorm_1 (BatchNormalizat (None, 48, 48, 64)        256       \n",
      "_________________________________________________________________\n",
      "conv2d_2 (Conv2D)            (None, 48, 48, 64)        102464    \n",
      "_________________________________________________________________\n",
      "batchnorm_2 (BatchNormalizat (None, 48, 48, 64)        256       \n",
      "_________________________________________________________________\n",
      "maxpool2d_1 (MaxPooling2D)   (None, 24, 24, 64)        0         \n",
      "_________________________________________________________________\n",
      "dropout_1 (Dropout)          (None, 24, 24, 64)        0         \n",
      "_________________________________________________________________\n",
      "conv2d_3 (Conv2D)            (None, 24, 24, 128)       73856     \n",
      "_________________________________________________________________\n",
      "batchnorm_3 (BatchNormalizat (None, 24, 24, 128)       512       \n",
      "_________________________________________________________________\n",
      "conv2d_4 (Conv2D)            (None, 24, 24, 128)       147584    \n",
      "_________________________________________________________________\n",
      "batchnorm_4 (BatchNormalizat (None, 24, 24, 128)       512       \n",
      "_________________________________________________________________\n",
      "maxpool2d_2 (MaxPooling2D)   (None, 12, 12, 128)       0         \n",
      "_________________________________________________________________\n",
      "dropout_2 (Dropout)          (None, 12, 12, 128)       0         \n",
      "_________________________________________________________________\n",
      "conv2d_5 (Conv2D)            (None, 12, 12, 256)       295168    \n",
      "_________________________________________________________________\n",
      "batchnorm_5 (BatchNormalizat (None, 12, 12, 256)       1024      \n",
      "_________________________________________________________________\n",
      "conv2d_6 (Conv2D)            (None, 12, 12, 256)       590080    \n",
      "_________________________________________________________________\n",
      "batchnorm_6 (BatchNormalizat (None, 12, 12, 256)       1024      \n",
      "_________________________________________________________________\n",
      "maxpool2d_3 (MaxPooling2D)   (None, 6, 6, 256)         0         \n",
      "_________________________________________________________________\n",
      "dropout_3 (Dropout)          (None, 6, 6, 256)         0         \n",
      "_________________________________________________________________\n",
      "flatten (Flatten)            (None, 9216)              0         \n",
      "_________________________________________________________________\n",
      "dense_1 (Dense)              (None, 128)               1179776   \n",
      "_________________________________________________________________\n",
      "batchnorm_7 (BatchNormalizat (None, 128)               512       \n",
      "_________________________________________________________________\n",
      "dropout_4 (Dropout)          (None, 128)               0         \n",
      "_________________________________________________________________\n",
      "out_layer (Dense)            (None, 1)                 129       \n",
      "=================================================================\n",
      "Total params: 2,394,817\n",
      "Trainable params: 2,392,769\n",
      "Non-trainable params: 2,048\n",
      "_________________________________________________________________\n"
     ]
    }
   ],
   "source": [
    "model.summary()"
   ]
  },
  {
   "cell_type": "code",
   "execution_count": 176,
   "id": "1af7daeb",
   "metadata": {},
   "outputs": [],
   "source": [
    "model.compile(loss = 'categorical_crossentropy',\n",
    "             optimizer = optimizers.SGD(),\n",
    "             metrics = ['accuracy'])"
   ]
  },
  {
   "cell_type": "code",
   "execution_count": 181,
   "id": "2eeb9e2f",
   "metadata": {},
   "outputs": [],
   "source": [
    "X_train = tf.constant(X_train)\n",
    "y_train = tf.constant(y_train)\n",
    "X_val = tf.constant(X_val)\n",
    "y_val = tf.constant(y_val)"
   ]
  },
  {
   "cell_type": "code",
   "execution_count": 182,
   "id": "66ecebbe",
   "metadata": {},
   "outputs": [
    {
     "data": {
      "text/plain": [
       "tensorflow.python.framework.ops.EagerTensor"
      ]
     },
     "execution_count": 182,
     "metadata": {},
     "output_type": "execute_result"
    }
   ],
   "source": [
    "type(X_train)"
   ]
  },
  {
   "cell_type": "code",
   "execution_count": 183,
   "id": "348901cc",
   "metadata": {
    "scrolled": true
   },
   "outputs": [
    {
     "name": "stdout",
     "output_type": "stream",
     "text": [
      "Train on 8815 samples, validate on 980 samples\n",
      "Epoch 1/10\n",
      "8815/8815 [==============================] - 309s 35ms/sample - loss: 0.0000e+00 - accuracy: 0.4909 - val_loss: 0.0000e+00 - val_accuracy: 0.5133\n",
      "Epoch 2/10\n",
      " 800/8815 [=>............................] - ETA: 4:10 - loss: 0.0000e+00 - accuracy: 0.5117"
     ]
    },
    {
     "ename": "KeyboardInterrupt",
     "evalue": "",
     "output_type": "error",
     "traceback": [
      "\u001b[0;31m---------------------------------------------------------------------------\u001b[0m",
      "\u001b[0;31mKeyboardInterrupt\u001b[0m                         Traceback (most recent call last)",
      "\u001b[0;32m/var/folders/m6/7phd8r7j7dx4l10fptlppnv80000gn/T/ipykernel_67271/1202597181.py\u001b[0m in \u001b[0;36m<module>\u001b[0;34m\u001b[0m\n\u001b[0;32m----> 1\u001b[0;31m \u001b[0mmodel\u001b[0m\u001b[0;34m.\u001b[0m\u001b[0mfit\u001b[0m\u001b[0;34m(\u001b[0m\u001b[0mX_train\u001b[0m\u001b[0;34m,\u001b[0m \u001b[0my_train\u001b[0m\u001b[0;34m,\u001b[0m \u001b[0mvalidation_data\u001b[0m \u001b[0;34m=\u001b[0m \u001b[0;34m(\u001b[0m\u001b[0mX_val\u001b[0m\u001b[0;34m,\u001b[0m \u001b[0my_val\u001b[0m\u001b[0;34m)\u001b[0m\u001b[0;34m,\u001b[0m \u001b[0mepochs\u001b[0m \u001b[0;34m=\u001b[0m \u001b[0;36m10\u001b[0m\u001b[0;34m,\u001b[0m \u001b[0mverbose\u001b[0m \u001b[0;34m=\u001b[0m \u001b[0;36m1\u001b[0m\u001b[0;34m,\u001b[0m \u001b[0mbatch_size\u001b[0m \u001b[0;34m=\u001b[0m \u001b[0;36m32\u001b[0m\u001b[0;34m)\u001b[0m\u001b[0;34m\u001b[0m\u001b[0m\n\u001b[0m",
      "\u001b[0;32m~/opt/anaconda3/envs/Vehicle_ATR/lib/python3.7/site-packages/tensorflow_core/python/keras/engine/training.py\u001b[0m in \u001b[0;36mfit\u001b[0;34m(self, x, y, batch_size, epochs, verbose, callbacks, validation_split, validation_data, shuffle, class_weight, sample_weight, initial_epoch, steps_per_epoch, validation_steps, validation_freq, max_queue_size, workers, use_multiprocessing, **kwargs)\u001b[0m\n\u001b[1;32m    726\u001b[0m         \u001b[0mmax_queue_size\u001b[0m\u001b[0;34m=\u001b[0m\u001b[0mmax_queue_size\u001b[0m\u001b[0;34m,\u001b[0m\u001b[0;34m\u001b[0m\u001b[0m\n\u001b[1;32m    727\u001b[0m         \u001b[0mworkers\u001b[0m\u001b[0;34m=\u001b[0m\u001b[0mworkers\u001b[0m\u001b[0;34m,\u001b[0m\u001b[0;34m\u001b[0m\u001b[0m\n\u001b[0;32m--> 728\u001b[0;31m         use_multiprocessing=use_multiprocessing)\n\u001b[0m\u001b[1;32m    729\u001b[0m \u001b[0;34m\u001b[0m\u001b[0m\n\u001b[1;32m    730\u001b[0m   def evaluate(self,\n",
      "\u001b[0;32m~/opt/anaconda3/envs/Vehicle_ATR/lib/python3.7/site-packages/tensorflow_core/python/keras/engine/training_v2.py\u001b[0m in \u001b[0;36mfit\u001b[0;34m(self, model, x, y, batch_size, epochs, verbose, callbacks, validation_split, validation_data, shuffle, class_weight, sample_weight, initial_epoch, steps_per_epoch, validation_steps, validation_freq, **kwargs)\u001b[0m\n\u001b[1;32m    322\u001b[0m                 \u001b[0mmode\u001b[0m\u001b[0;34m=\u001b[0m\u001b[0mModeKeys\u001b[0m\u001b[0;34m.\u001b[0m\u001b[0mTRAIN\u001b[0m\u001b[0;34m,\u001b[0m\u001b[0;34m\u001b[0m\u001b[0m\n\u001b[1;32m    323\u001b[0m                 \u001b[0mtraining_context\u001b[0m\u001b[0;34m=\u001b[0m\u001b[0mtraining_context\u001b[0m\u001b[0;34m,\u001b[0m\u001b[0;34m\u001b[0m\u001b[0m\n\u001b[0;32m--> 324\u001b[0;31m                 total_epochs=epochs)\n\u001b[0m\u001b[1;32m    325\u001b[0m             \u001b[0mcbks\u001b[0m\u001b[0;34m.\u001b[0m\u001b[0mmake_logs\u001b[0m\u001b[0;34m(\u001b[0m\u001b[0mmodel\u001b[0m\u001b[0;34m,\u001b[0m \u001b[0mepoch_logs\u001b[0m\u001b[0;34m,\u001b[0m \u001b[0mtraining_result\u001b[0m\u001b[0;34m,\u001b[0m \u001b[0mModeKeys\u001b[0m\u001b[0;34m.\u001b[0m\u001b[0mTRAIN\u001b[0m\u001b[0;34m)\u001b[0m\u001b[0;34m\u001b[0m\u001b[0m\n\u001b[1;32m    326\u001b[0m \u001b[0;34m\u001b[0m\u001b[0m\n",
      "\u001b[0;32m~/opt/anaconda3/envs/Vehicle_ATR/lib/python3.7/site-packages/tensorflow_core/python/keras/engine/training_v2.py\u001b[0m in \u001b[0;36mrun_one_epoch\u001b[0;34m(model, iterator, execution_function, dataset_size, batch_size, strategy, steps_per_epoch, num_samples, mode, training_context, total_epochs)\u001b[0m\n\u001b[1;32m    121\u001b[0m         step=step, mode=mode, size=current_batch_size) as batch_logs:\n\u001b[1;32m    122\u001b[0m       \u001b[0;32mtry\u001b[0m\u001b[0;34m:\u001b[0m\u001b[0;34m\u001b[0m\u001b[0m\n\u001b[0;32m--> 123\u001b[0;31m         \u001b[0mbatch_outs\u001b[0m \u001b[0;34m=\u001b[0m \u001b[0mexecution_function\u001b[0m\u001b[0;34m(\u001b[0m\u001b[0miterator\u001b[0m\u001b[0;34m)\u001b[0m\u001b[0;34m\u001b[0m\u001b[0m\n\u001b[0m\u001b[1;32m    124\u001b[0m       \u001b[0;32mexcept\u001b[0m \u001b[0;34m(\u001b[0m\u001b[0mStopIteration\u001b[0m\u001b[0;34m,\u001b[0m \u001b[0merrors\u001b[0m\u001b[0;34m.\u001b[0m\u001b[0mOutOfRangeError\u001b[0m\u001b[0;34m)\u001b[0m\u001b[0;34m:\u001b[0m\u001b[0;34m\u001b[0m\u001b[0m\n\u001b[1;32m    125\u001b[0m         \u001b[0;31m# TODO(kaftan): File bug about tf function and errors.OutOfRangeError?\u001b[0m\u001b[0;34m\u001b[0m\u001b[0;34m\u001b[0m\u001b[0m\n",
      "\u001b[0;32m~/opt/anaconda3/envs/Vehicle_ATR/lib/python3.7/site-packages/tensorflow_core/python/keras/engine/training_v2_utils.py\u001b[0m in \u001b[0;36mexecution_function\u001b[0;34m(input_fn)\u001b[0m\n\u001b[1;32m     84\u001b[0m     \u001b[0;31m# `numpy` translates Tensors to values in Eager mode.\u001b[0m\u001b[0;34m\u001b[0m\u001b[0;34m\u001b[0m\u001b[0m\n\u001b[1;32m     85\u001b[0m     return nest.map_structure(_non_none_constant_value,\n\u001b[0;32m---> 86\u001b[0;31m                               distributed_function(input_fn))\n\u001b[0m\u001b[1;32m     87\u001b[0m \u001b[0;34m\u001b[0m\u001b[0m\n\u001b[1;32m     88\u001b[0m   \u001b[0;32mreturn\u001b[0m \u001b[0mexecution_function\u001b[0m\u001b[0;34m\u001b[0m\u001b[0m\n",
      "\u001b[0;32m~/opt/anaconda3/envs/Vehicle_ATR/lib/python3.7/site-packages/tensorflow_core/python/eager/def_function.py\u001b[0m in \u001b[0;36m__call__\u001b[0;34m(self, *args, **kwds)\u001b[0m\n\u001b[1;32m    455\u001b[0m \u001b[0;34m\u001b[0m\u001b[0m\n\u001b[1;32m    456\u001b[0m     \u001b[0mtracing_count\u001b[0m \u001b[0;34m=\u001b[0m \u001b[0mself\u001b[0m\u001b[0;34m.\u001b[0m\u001b[0m_get_tracing_count\u001b[0m\u001b[0;34m(\u001b[0m\u001b[0;34m)\u001b[0m\u001b[0;34m\u001b[0m\u001b[0m\n\u001b[0;32m--> 457\u001b[0;31m     \u001b[0mresult\u001b[0m \u001b[0;34m=\u001b[0m \u001b[0mself\u001b[0m\u001b[0;34m.\u001b[0m\u001b[0m_call\u001b[0m\u001b[0;34m(\u001b[0m\u001b[0;34m*\u001b[0m\u001b[0margs\u001b[0m\u001b[0;34m,\u001b[0m \u001b[0;34m**\u001b[0m\u001b[0mkwds\u001b[0m\u001b[0;34m)\u001b[0m\u001b[0;34m\u001b[0m\u001b[0m\n\u001b[0m\u001b[1;32m    458\u001b[0m     \u001b[0;32mif\u001b[0m \u001b[0mtracing_count\u001b[0m \u001b[0;34m==\u001b[0m \u001b[0mself\u001b[0m\u001b[0;34m.\u001b[0m\u001b[0m_get_tracing_count\u001b[0m\u001b[0;34m(\u001b[0m\u001b[0;34m)\u001b[0m\u001b[0;34m:\u001b[0m\u001b[0;34m\u001b[0m\u001b[0m\n\u001b[1;32m    459\u001b[0m       \u001b[0mself\u001b[0m\u001b[0;34m.\u001b[0m\u001b[0m_call_counter\u001b[0m\u001b[0;34m.\u001b[0m\u001b[0mcalled_without_tracing\u001b[0m\u001b[0;34m(\u001b[0m\u001b[0;34m)\u001b[0m\u001b[0;34m\u001b[0m\u001b[0m\n",
      "\u001b[0;32m~/opt/anaconda3/envs/Vehicle_ATR/lib/python3.7/site-packages/tensorflow_core/python/eager/def_function.py\u001b[0m in \u001b[0;36m_call\u001b[0;34m(self, *args, **kwds)\u001b[0m\n\u001b[1;32m    485\u001b[0m       \u001b[0;31m# In this case we have created variables on the first call, so we run the\u001b[0m\u001b[0;34m\u001b[0m\u001b[0;34m\u001b[0m\u001b[0m\n\u001b[1;32m    486\u001b[0m       \u001b[0;31m# defunned version which is guaranteed to never create variables.\u001b[0m\u001b[0;34m\u001b[0m\u001b[0;34m\u001b[0m\u001b[0m\n\u001b[0;32m--> 487\u001b[0;31m       \u001b[0;32mreturn\u001b[0m \u001b[0mself\u001b[0m\u001b[0;34m.\u001b[0m\u001b[0m_stateless_fn\u001b[0m\u001b[0;34m(\u001b[0m\u001b[0;34m*\u001b[0m\u001b[0margs\u001b[0m\u001b[0;34m,\u001b[0m \u001b[0;34m**\u001b[0m\u001b[0mkwds\u001b[0m\u001b[0;34m)\u001b[0m  \u001b[0;31m# pylint: disable=not-callable\u001b[0m\u001b[0;34m\u001b[0m\u001b[0m\n\u001b[0m\u001b[1;32m    488\u001b[0m     \u001b[0;32melif\u001b[0m \u001b[0mself\u001b[0m\u001b[0;34m.\u001b[0m\u001b[0m_stateful_fn\u001b[0m \u001b[0;32mis\u001b[0m \u001b[0;32mnot\u001b[0m \u001b[0;32mNone\u001b[0m\u001b[0;34m:\u001b[0m\u001b[0;34m\u001b[0m\u001b[0m\n\u001b[1;32m    489\u001b[0m       \u001b[0;31m# Release the lock early so that multiple threads can perform the call\u001b[0m\u001b[0;34m\u001b[0m\u001b[0;34m\u001b[0m\u001b[0m\n",
      "\u001b[0;32m~/opt/anaconda3/envs/Vehicle_ATR/lib/python3.7/site-packages/tensorflow_core/python/eager/function.py\u001b[0m in \u001b[0;36m__call__\u001b[0;34m(self, *args, **kwargs)\u001b[0m\n\u001b[1;32m   1821\u001b[0m     \u001b[0;34m\"\"\"Calls a graph function specialized to the inputs.\"\"\"\u001b[0m\u001b[0;34m\u001b[0m\u001b[0m\n\u001b[1;32m   1822\u001b[0m     \u001b[0mgraph_function\u001b[0m\u001b[0;34m,\u001b[0m \u001b[0margs\u001b[0m\u001b[0;34m,\u001b[0m \u001b[0mkwargs\u001b[0m \u001b[0;34m=\u001b[0m \u001b[0mself\u001b[0m\u001b[0;34m.\u001b[0m\u001b[0m_maybe_define_function\u001b[0m\u001b[0;34m(\u001b[0m\u001b[0margs\u001b[0m\u001b[0;34m,\u001b[0m \u001b[0mkwargs\u001b[0m\u001b[0;34m)\u001b[0m\u001b[0;34m\u001b[0m\u001b[0m\n\u001b[0;32m-> 1823\u001b[0;31m     \u001b[0;32mreturn\u001b[0m \u001b[0mgraph_function\u001b[0m\u001b[0;34m.\u001b[0m\u001b[0m_filtered_call\u001b[0m\u001b[0;34m(\u001b[0m\u001b[0margs\u001b[0m\u001b[0;34m,\u001b[0m \u001b[0mkwargs\u001b[0m\u001b[0;34m)\u001b[0m  \u001b[0;31m# pylint: disable=protected-access\u001b[0m\u001b[0;34m\u001b[0m\u001b[0m\n\u001b[0m\u001b[1;32m   1824\u001b[0m \u001b[0;34m\u001b[0m\u001b[0m\n\u001b[1;32m   1825\u001b[0m   \u001b[0;34m@\u001b[0m\u001b[0mproperty\u001b[0m\u001b[0;34m\u001b[0m\u001b[0m\n",
      "\u001b[0;32m~/opt/anaconda3/envs/Vehicle_ATR/lib/python3.7/site-packages/tensorflow_core/python/eager/function.py\u001b[0m in \u001b[0;36m_filtered_call\u001b[0;34m(self, args, kwargs)\u001b[0m\n\u001b[1;32m   1139\u001b[0m          if isinstance(t, (ops.Tensor,\n\u001b[1;32m   1140\u001b[0m                            resource_variable_ops.BaseResourceVariable))),\n\u001b[0;32m-> 1141\u001b[0;31m         self.captured_inputs)\n\u001b[0m\u001b[1;32m   1142\u001b[0m \u001b[0;34m\u001b[0m\u001b[0m\n\u001b[1;32m   1143\u001b[0m   \u001b[0;32mdef\u001b[0m \u001b[0m_call_flat\u001b[0m\u001b[0;34m(\u001b[0m\u001b[0mself\u001b[0m\u001b[0;34m,\u001b[0m \u001b[0margs\u001b[0m\u001b[0;34m,\u001b[0m \u001b[0mcaptured_inputs\u001b[0m\u001b[0;34m,\u001b[0m \u001b[0mcancellation_manager\u001b[0m\u001b[0;34m=\u001b[0m\u001b[0;32mNone\u001b[0m\u001b[0;34m)\u001b[0m\u001b[0;34m:\u001b[0m\u001b[0;34m\u001b[0m\u001b[0m\n",
      "\u001b[0;32m~/opt/anaconda3/envs/Vehicle_ATR/lib/python3.7/site-packages/tensorflow_core/python/eager/function.py\u001b[0m in \u001b[0;36m_call_flat\u001b[0;34m(self, args, captured_inputs, cancellation_manager)\u001b[0m\n\u001b[1;32m   1222\u001b[0m     \u001b[0;32mif\u001b[0m \u001b[0mexecuting_eagerly\u001b[0m\u001b[0;34m:\u001b[0m\u001b[0;34m\u001b[0m\u001b[0m\n\u001b[1;32m   1223\u001b[0m       flat_outputs = forward_function.call(\n\u001b[0;32m-> 1224\u001b[0;31m           ctx, args, cancellation_manager=cancellation_manager)\n\u001b[0m\u001b[1;32m   1225\u001b[0m     \u001b[0;32melse\u001b[0m\u001b[0;34m:\u001b[0m\u001b[0;34m\u001b[0m\u001b[0m\n\u001b[1;32m   1226\u001b[0m       \u001b[0mgradient_name\u001b[0m \u001b[0;34m=\u001b[0m \u001b[0mself\u001b[0m\u001b[0;34m.\u001b[0m\u001b[0m_delayed_rewrite_functions\u001b[0m\u001b[0;34m.\u001b[0m\u001b[0mregister\u001b[0m\u001b[0;34m(\u001b[0m\u001b[0;34m)\u001b[0m\u001b[0;34m\u001b[0m\u001b[0m\n",
      "\u001b[0;32m~/opt/anaconda3/envs/Vehicle_ATR/lib/python3.7/site-packages/tensorflow_core/python/eager/function.py\u001b[0m in \u001b[0;36mcall\u001b[0;34m(self, ctx, args, cancellation_manager)\u001b[0m\n\u001b[1;32m    509\u001b[0m               \u001b[0minputs\u001b[0m\u001b[0;34m=\u001b[0m\u001b[0margs\u001b[0m\u001b[0;34m,\u001b[0m\u001b[0;34m\u001b[0m\u001b[0m\n\u001b[1;32m    510\u001b[0m               \u001b[0mattrs\u001b[0m\u001b[0;34m=\u001b[0m\u001b[0;34m(\u001b[0m\u001b[0;34m\"executor_type\"\u001b[0m\u001b[0;34m,\u001b[0m \u001b[0mexecutor_type\u001b[0m\u001b[0;34m,\u001b[0m \u001b[0;34m\"config_proto\"\u001b[0m\u001b[0;34m,\u001b[0m \u001b[0mconfig\u001b[0m\u001b[0;34m)\u001b[0m\u001b[0;34m,\u001b[0m\u001b[0;34m\u001b[0m\u001b[0m\n\u001b[0;32m--> 511\u001b[0;31m               ctx=ctx)\n\u001b[0m\u001b[1;32m    512\u001b[0m         \u001b[0;32melse\u001b[0m\u001b[0;34m:\u001b[0m\u001b[0;34m\u001b[0m\u001b[0m\n\u001b[1;32m    513\u001b[0m           outputs = execute.execute_with_cancellation(\n",
      "\u001b[0;32m~/opt/anaconda3/envs/Vehicle_ATR/lib/python3.7/site-packages/tensorflow_core/python/eager/execute.py\u001b[0m in \u001b[0;36mquick_execute\u001b[0;34m(op_name, num_outputs, inputs, attrs, ctx, name)\u001b[0m\n\u001b[1;32m     59\u001b[0m     tensors = pywrap_tensorflow.TFE_Py_Execute(ctx._handle, device_name,\n\u001b[1;32m     60\u001b[0m                                                \u001b[0mop_name\u001b[0m\u001b[0;34m,\u001b[0m \u001b[0minputs\u001b[0m\u001b[0;34m,\u001b[0m \u001b[0mattrs\u001b[0m\u001b[0;34m,\u001b[0m\u001b[0;34m\u001b[0m\u001b[0m\n\u001b[0;32m---> 61\u001b[0;31m                                                num_outputs)\n\u001b[0m\u001b[1;32m     62\u001b[0m   \u001b[0;32mexcept\u001b[0m \u001b[0mcore\u001b[0m\u001b[0;34m.\u001b[0m\u001b[0m_NotOkStatusException\u001b[0m \u001b[0;32mas\u001b[0m \u001b[0me\u001b[0m\u001b[0;34m:\u001b[0m\u001b[0;34m\u001b[0m\u001b[0m\n\u001b[1;32m     63\u001b[0m     \u001b[0;32mif\u001b[0m \u001b[0mname\u001b[0m \u001b[0;32mis\u001b[0m \u001b[0;32mnot\u001b[0m \u001b[0;32mNone\u001b[0m\u001b[0;34m:\u001b[0m\u001b[0;34m\u001b[0m\u001b[0m\n",
      "\u001b[0;31mKeyboardInterrupt\u001b[0m: "
     ]
    }
   ],
   "source": [
    "model.fit(X_train, y_train, validation_data = (X_val, y_val), epochs = 10, verbose = 1, batch_size = 32)"
   ]
  },
  {
   "cell_type": "code",
   "execution_count": 79,
   "id": "d393c451",
   "metadata": {},
   "outputs": [],
   "source": [
    "loss = model.history.history['loss']\n",
    "accuracy = model.history.history['accuracy']\n",
    "val_loss = model.history.history['val_loss']\n",
    "val_accuracy = model.history.history['val_accuracy']\n"
   ]
  },
  {
   "cell_type": "code",
   "execution_count": 80,
   "id": "ad4dc8c4",
   "metadata": {
    "scrolled": true
   },
   "outputs": [
    {
     "data": {
      "text/plain": [
       "[<matplotlib.lines.Line2D at 0x22fa6a46520>]"
      ]
     },
     "execution_count": 80,
     "metadata": {},
     "output_type": "execute_result"
    },
    {
     "data": {
      "image/png": "[encoded data removed]",
      "text/plain": [
       "<Figure size 432x288 with 1 Axes>"
      ]
     },
     "metadata": {
      "needs_background": "light"
     },
     "output_type": "display_data"
    }
   ],
   "source": [
    "plt.plot(loss)\n",
    "plt.plot(val_loss)"
   ]
  },
  {
   "cell_type": "code",
   "execution_count": 81,
   "id": "66ac0f29",
   "metadata": {},
   "outputs": [
    {
     "data": {
      "text/plain": [
       "[<matplotlib.lines.Line2D at 0x22fa6aaf3d0>]"
      ]
     },
     "execution_count": 81,
     "metadata": {},
     "output_type": "execute_result"
    },
    {
     "data": {
      "image/png": "[encoded data removed]",
      "text/plain": [
       "<Figure size 432x288 with 1 Axes>"
      ]
     },
     "metadata": {
      "needs_background": "light"
     },
     "output_type": "display_data"
    }
   ],
   "source": [
    "plt.plot(accuracy)\n",
    "plt.plot(val_accuracy)"
   ]
  },
  {
   "cell_type": "code",
   "execution_count": null,
   "id": "88ce02a2",
   "metadata": {},
   "outputs": [],
   "source": []
  },
  {
   "cell_type": "code",
   "execution_count": null,
   "id": "3429c8ab",
   "metadata": {},
   "outputs": [],
   "source": []
  },
  {
   "cell_type": "markdown",
   "id": "c406227e",
   "metadata": {},
   "source": [
    "### make a prediction on a random image"
   ]
  },
  {
   "cell_type": "code",
   "execution_count": 82,
   "id": "390ed279",
   "metadata": {},
   "outputs": [],
   "source": [
    "single_image2 = cv2.imread('emotion_images/test/fear/PrivateTest_10153550.jpg',-1)\n",
    "single_image3 = cv2.imread('emotion_images/test/happy/PrivateTest_10077120.jpg',-1)\n",
    "single_image4 = cv2.imread('emotion_images/test/angry/PrivateTest_10131363.jpg',-1)"
   ]
  },
  {
   "cell_type": "code",
   "execution_count": 83,
   "id": "b7f352c9",
   "metadata": {},
   "outputs": [],
   "source": [
    "import matplotlib.pyplot as plt"
   ]
  },
  {
   "cell_type": "code",
   "execution_count": 84,
   "id": "8ae62ae6",
   "metadata": {
    "scrolled": true
   },
   "outputs": [
    {
     "data": {
      "text/plain": [
       "<matplotlib.image.AxesImage at 0x22fa6b0b880>"
      ]
     },
     "execution_count": 84,
     "metadata": {},
     "output_type": "execute_result"
    },
    {
     "data": {
      "image/png": "[encoded data removed]",
      "text/plain": [
       "<Figure size 432x288 with 1 Axes>"
      ]
     },
     "metadata": {
      "needs_background": "light"
     },
     "output_type": "display_data"
    }
   ],
   "source": [
    "plt.imshow(single_image2)"
   ]
  },
  {
   "cell_type": "code",
   "execution_count": 85,
   "id": "af3ef4b6",
   "metadata": {},
   "outputs": [
    {
     "data": {
      "text/plain": [
       "<matplotlib.image.AxesImage at 0x22fa6b695e0>"
      ]
     },
     "execution_count": 85,
     "metadata": {},
     "output_type": "execute_result"
    },
    {
     "data": {
      "image/png": "[encoded data removed]",
      "text/plain": [
       "<Figure size 432x288 with 1 Axes>"
      ]
     },
     "metadata": {
      "needs_background": "light"
     },
     "output_type": "display_data"
    }
   ],
   "source": [
    "plt.imshow(single_image3)"
   ]
  },
  {
   "cell_type": "code",
   "execution_count": 86,
   "id": "66dba812",
   "metadata": {},
   "outputs": [
    {
     "data": {
      "text/plain": [
       "<matplotlib.image.AxesImage at 0x22fa6bcb1c0>"
      ]
     },
     "execution_count": 86,
     "metadata": {},
     "output_type": "execute_result"
    },
    {
     "data": {
      "image/png": "[encoded data removed]",
      "text/plain": [
       "<Figure size 432x288 with 1 Axes>"
      ]
     },
     "metadata": {
      "needs_background": "light"
     },
     "output_type": "display_data"
    }
   ],
   "source": [
    "plt.imshow(single_image4)"
   ]
  },
  {
   "cell_type": "code",
   "execution_count": 87,
   "id": "70205366",
   "metadata": {},
   "outputs": [],
   "source": [
    "single_image2 = np.expand_dims(single_image2, axis = 0)\n",
    "single_image3 = np.expand_dims(single_image3, axis = 0)\n",
    "single_image4 = np.expand_dims(single_image4, axis = 0)\n",
    "\n",
    "\n",
    "single_image2 = np.expand_dims(single_image2, axis = -1)\n",
    "single_image3 = np.expand_dims(single_image3, axis = -1)\n",
    "single_image4 = np.expand_dims(single_image4, axis = -1)"
   ]
  },
  {
   "cell_type": "code",
   "execution_count": 88,
   "id": "f9890667",
   "metadata": {},
   "outputs": [
    {
     "data": {
      "text/plain": [
       "(1, 48, 48, 1)"
      ]
     },
     "execution_count": 88,
     "metadata": {},
     "output_type": "execute_result"
    }
   ],
   "source": [
    "single_image2.shape"
   ]
  },
  {
   "cell_type": "code",
   "execution_count": 89,
   "id": "b9fdf2e4",
   "metadata": {},
   "outputs": [],
   "source": [
    "single_image2 = single_image2.astype('float16')\n",
    "single_image3 = single_image3.astype('float16')\n",
    "single_image4 = single_image4.astype('float16')"
   ]
  },
  {
   "cell_type": "code",
   "execution_count": 90,
   "id": "d90f3b8c",
   "metadata": {},
   "outputs": [],
   "source": [
    "#predictions are angry, disgust, fear, happy, neutral, sad, surprise"
   ]
  },
  {
   "cell_type": "code",
   "execution_count": 95,
   "id": "04e577a7",
   "metadata": {},
   "outputs": [
    {
     "data": {
      "text/plain": [
       "array([[1., 0., 0., 0., 0., 0., 0.]], dtype=float32)"
      ]
     },
     "execution_count": 95,
     "metadata": {},
     "output_type": "execute_result"
    }
   ],
   "source": [
    "#fear\n",
    "model.predict(single_image2)"
   ]
  },
  {
   "cell_type": "code",
   "execution_count": 96,
   "id": "dcea1fe3",
   "metadata": {},
   "outputs": [
    {
     "data": {
      "text/plain": [
       "array([[1., 0., 0., 0., 0., 0., 0.]], dtype=float32)"
      ]
     },
     "execution_count": 96,
     "metadata": {},
     "output_type": "execute_result"
    }
   ],
   "source": [
    "#happy\n",
    "model.predict(single_image3)\n"
   ]
  },
  {
   "cell_type": "code",
   "execution_count": 97,
   "id": "f0bb22f2",
   "metadata": {},
   "outputs": [
    {
     "data": {
      "text/plain": [
       "array([[1., 0., 0., 0., 0., 0., 0.]], dtype=float32)"
      ]
     },
     "execution_count": 97,
     "metadata": {},
     "output_type": "execute_result"
    }
   ],
   "source": [
    "#angry\n",
    "model.predict(single_image4)\n"
   ]
  },
  {
   "cell_type": "code",
   "execution_count": null,
   "id": "38709b5b",
   "metadata": {},
   "outputs": [],
   "source": []
  },
  {
   "cell_type": "code",
   "execution_count": null,
   "id": "cb02926c",
   "metadata": {},
   "outputs": [],
   "source": []
  },
  {
   "cell_type": "code",
   "execution_count": null,
   "id": "061d28d0",
   "metadata": {},
   "outputs": [],
   "source": []
  },
  {
   "cell_type": "code",
   "execution_count": null,
   "id": "3138cb6f",
   "metadata": {},
   "outputs": [],
   "source": []
  },
  {
   "cell_type": "code",
   "execution_count": null,
   "id": "17ebb93b",
   "metadata": {},
   "outputs": [],
   "source": []
  },
  {
   "cell_type": "code",
   "execution_count": null,
   "id": "1d3d24b6",
   "metadata": {},
   "outputs": [],
   "source": []
  }
 ],
 "metadata": {
  "kernelspec": {
   "display_name": "Python 3 (ipykernel)",
   "language": "python",
   "name": "python3"
  },
  "language_info": {
   "codemirror_mode": {
    "name": "ipython",
    "version": 3
   },
   "file_extension": ".py",
   "mimetype": "text/x-python",
   "name": "python",
   "nbconvert_exporter": "python",
   "pygments_lexer": "ipython3",
   "version": "3.7.0"
  }
 },
 "nbformat": 4,
 "nbformat_minor": 5
}
