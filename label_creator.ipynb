{
 "cells": [
  {
   "cell_type": "code",
   "execution_count": 1,
   "id": "846c9579",
   "metadata": {},
   "outputs": [],
   "source": [
    "import glob\n",
    "import os\n",
    "import pandas as pd"
   ]
  },
  {
   "cell_type": "code",
   "execution_count": 2,
   "id": "1463fef3",
   "metadata": {},
   "outputs": [],
   "source": [
    "def label_creator():\n",
    "    files = glob.glob('emotion_images/train/*/*')\n",
    "    len(files)\n",
    "    files[0:10]\n",
    "    \n",
    "    emotions = []\n",
    "    filename = []\n",
    "    for i in files:\n",
    "        emotions.append(i.split('/')[2])\n",
    "        filename.append(i.split('/')[3])\n",
    "\n",
    "    outfile = list(zip(files, filename, emotions))\n",
    "\n",
    "    df = pd.DataFrame(outfile, columns = ['path', 'filename', 'emotion'])\n",
    "    df['emotion_value'] = df['emotion'].replace(['happy', 'sad', 'fear', 'surprise', 'neutral', 'angry', 'disgust'], [0,1,2,3,4,5,6])\n",
    "    #dummies = pd.get_dummies(df, columns = ['emotion'])\n",
    "    #return dummies\n",
    "    return df\n",
    "\n",
    "\n"
   ]
  },
  {
   "cell_type": "code",
   "execution_count": 3,
   "id": "24edc341",
   "metadata": {},
   "outputs": [],
   "source": [
    "df = label_creator()\n",
    "#dummies"
   ]
  },
  {
   "cell_type": "code",
   "execution_count": 4,
   "id": "1810fd6d",
   "metadata": {},
   "outputs": [
    {
     "data": {
      "text/html": [
       "<div>\n",
       "<style scoped>\n",
       "    .dataframe tbody tr th:only-of-type {\n",
       "        vertical-align: middle;\n",
       "    }\n",
       "\n",
       "    .dataframe tbody tr th {\n",
       "        vertical-align: top;\n",
       "    }\n",
       "\n",
       "    .dataframe thead th {\n",
       "        text-align: right;\n",
       "    }\n",
       "</style>\n",
       "<table border=\"1\" class=\"dataframe\">\n",
       "  <thead>\n",
       "    <tr style=\"text-align: right;\">\n",
       "      <th></th>\n",
       "      <th>path</th>\n",
       "      <th>filename</th>\n",
       "      <th>emotion</th>\n",
       "      <th>emotion_value</th>\n",
       "    </tr>\n",
       "  </thead>\n",
       "  <tbody>\n",
       "    <tr>\n",
       "      <th>0</th>\n",
       "      <td>emotion_images/train/happy/Training_50449107.jpg</td>\n",
       "      <td>Training_50449107.jpg</td>\n",
       "      <td>happy</td>\n",
       "      <td>0</td>\n",
       "    </tr>\n",
       "    <tr>\n",
       "      <th>1</th>\n",
       "      <td>emotion_images/train/happy/Training_70433018.jpg</td>\n",
       "      <td>Training_70433018.jpg</td>\n",
       "      <td>happy</td>\n",
       "      <td>0</td>\n",
       "    </tr>\n",
       "    <tr>\n",
       "      <th>2</th>\n",
       "      <td>emotion_images/train/happy/Training_85610005.jpg</td>\n",
       "      <td>Training_85610005.jpg</td>\n",
       "      <td>happy</td>\n",
       "      <td>0</td>\n",
       "    </tr>\n",
       "    <tr>\n",
       "      <th>3</th>\n",
       "      <td>emotion_images/train/happy/Training_4460748.jpg</td>\n",
       "      <td>Training_4460748.jpg</td>\n",
       "      <td>happy</td>\n",
       "      <td>0</td>\n",
       "    </tr>\n",
       "    <tr>\n",
       "      <th>4</th>\n",
       "      <td>emotion_images/train/happy/Training_6312930.jpg</td>\n",
       "      <td>Training_6312930.jpg</td>\n",
       "      <td>happy</td>\n",
       "      <td>0</td>\n",
       "    </tr>\n",
       "    <tr>\n",
       "      <th>...</th>\n",
       "      <td>...</td>\n",
       "      <td>...</td>\n",
       "      <td>...</td>\n",
       "      <td>...</td>\n",
       "    </tr>\n",
       "    <tr>\n",
       "      <th>28704</th>\n",
       "      <td>emotion_images/train/disgust/Training_94788538...</td>\n",
       "      <td>Training_94788538.jpg</td>\n",
       "      <td>disgust</td>\n",
       "      <td>6</td>\n",
       "    </tr>\n",
       "    <tr>\n",
       "      <th>28705</th>\n",
       "      <td>emotion_images/train/disgust/Training_81049148...</td>\n",
       "      <td>Training_81049148.jpg</td>\n",
       "      <td>disgust</td>\n",
       "      <td>6</td>\n",
       "    </tr>\n",
       "    <tr>\n",
       "      <th>28706</th>\n",
       "      <td>emotion_images/train/disgust/Training_28365203...</td>\n",
       "      <td>Training_28365203.jpg</td>\n",
       "      <td>disgust</td>\n",
       "      <td>6</td>\n",
       "    </tr>\n",
       "    <tr>\n",
       "      <th>28707</th>\n",
       "      <td>emotion_images/train/disgust/Training_39197750...</td>\n",
       "      <td>Training_39197750.jpg</td>\n",
       "      <td>disgust</td>\n",
       "      <td>6</td>\n",
       "    </tr>\n",
       "    <tr>\n",
       "      <th>28708</th>\n",
       "      <td>emotion_images/train/disgust/Training_12525818...</td>\n",
       "      <td>Training_12525818.jpg</td>\n",
       "      <td>disgust</td>\n",
       "      <td>6</td>\n",
       "    </tr>\n",
       "  </tbody>\n",
       "</table>\n",
       "<p>28709 rows × 4 columns</p>\n",
       "</div>"
      ],
      "text/plain": [
       "                                                    path  \\\n",
       "0       emotion_images/train/happy/Training_50449107.jpg   \n",
       "1       emotion_images/train/happy/Training_70433018.jpg   \n",
       "2       emotion_images/train/happy/Training_85610005.jpg   \n",
       "3        emotion_images/train/happy/Training_4460748.jpg   \n",
       "4        emotion_images/train/happy/Training_6312930.jpg   \n",
       "...                                                  ...   \n",
       "28704  emotion_images/train/disgust/Training_94788538...   \n",
       "28705  emotion_images/train/disgust/Training_81049148...   \n",
       "28706  emotion_images/train/disgust/Training_28365203...   \n",
       "28707  emotion_images/train/disgust/Training_39197750...   \n",
       "28708  emotion_images/train/disgust/Training_12525818...   \n",
       "\n",
       "                    filename  emotion  emotion_value  \n",
       "0      Training_50449107.jpg    happy              0  \n",
       "1      Training_70433018.jpg    happy              0  \n",
       "2      Training_85610005.jpg    happy              0  \n",
       "3       Training_4460748.jpg    happy              0  \n",
       "4       Training_6312930.jpg    happy              0  \n",
       "...                      ...      ...            ...  \n",
       "28704  Training_94788538.jpg  disgust              6  \n",
       "28705  Training_81049148.jpg  disgust              6  \n",
       "28706  Training_28365203.jpg  disgust              6  \n",
       "28707  Training_39197750.jpg  disgust              6  \n",
       "28708  Training_12525818.jpg  disgust              6  \n",
       "\n",
       "[28709 rows x 4 columns]"
      ]
     },
     "execution_count": 4,
     "metadata": {},
     "output_type": "execute_result"
    }
   ],
   "source": [
    "df"
   ]
  },
  {
   "cell_type": "code",
   "execution_count": 7,
   "id": "78f0ad76",
   "metadata": {},
   "outputs": [
    {
     "name": "stdout",
     "output_type": "stream",
     "text": [
      "(48, 48)\n"
     ]
    }
   ],
   "source": [
    "#load one image to gets specs\n",
    "import cv2\n",
    "img = cv2.imread('emotion_images/test/angry/PrivateTest_10131363.jpg',0)\n",
    "print(img.shape)"
   ]
  },
  {
   "cell_type": "code",
   "execution_count": 12,
   "id": "5b7433f6",
   "metadata": {},
   "outputs": [],
   "source": [
    "import numpy as np\n",
    "import os\n",
    "import PIL\n",
    "from PIL import Image\n",
    "import tensorflow as tf\n",
    "#import tensorflow_datasets as tfds"
   ]
  },
  {
   "cell_type": "code",
   "execution_count": 13,
   "id": "e746f554",
   "metadata": {},
   "outputs": [],
   "source": [
    "batch_size = 32\n",
    "img_height = 48\n",
    "img_width = 48"
   ]
  },
  {
   "cell_type": "code",
   "execution_count": 15,
   "id": "cb30b11c",
   "metadata": {},
   "outputs": [],
   "source": [
    "img2 = Image.open('emotion_images/test/angry/PrivateTest_10131363.jpg')"
   ]
  },
  {
   "cell_type": "code",
   "execution_count": 19,
   "id": "f3e79896",
   "metadata": {},
   "outputs": [],
   "source": [
    "img2 = np.asarray(img2)"
   ]
  },
  {
   "cell_type": "code",
   "execution_count": 21,
   "id": "091cc366",
   "metadata": {},
   "outputs": [
    {
     "data": {
      "text/plain": [
       "(48, 48)"
      ]
     },
     "execution_count": 21,
     "metadata": {},
     "output_type": "execute_result"
    }
   ],
   "source": [
    "img2.shape"
   ]
  },
  {
   "cell_type": "code",
   "execution_count": null,
   "id": "e00b3fe2",
   "metadata": {},
   "outputs": [],
   "source": []
  }
 ],
 "metadata": {
  "kernelspec": {
   "display_name": "Python 3 (ipykernel)",
   "language": "python",
   "name": "python3"
  },
  "language_info": {
   "codemirror_mode": {
    "name": "ipython",
    "version": 3
   },
   "file_extension": ".py",
   "mimetype": "text/x-python",
   "name": "python",
   "nbconvert_exporter": "python",
   "pygments_lexer": "ipython3",
   "version": "3.7.0"
  }
 },
 "nbformat": 4,
 "nbformat_minor": 5
}
